{
 "cells": [
  {
   "cell_type": "markdown",
   "metadata": {},
   "source": [
    "### Sequence of wayoints in joint space and open-close movement of the gripper after each waypoint\n",
    "\n",
    "**requirements:**\n",
    "\n",
    "- beware that RobotControl package is required to open and close the gripper\n",
    "- You must launch: ros2 launch xarm_api lite6_driver.launch.py robot_ip:=192.169.1.190"
   ]
  },
  {
   "cell_type": "code",
   "execution_count": null,
   "metadata": {},
   "outputs": [],
   "source": [
    "import os\n",
    "import math\n",
    "import sys\n",
    "import yaml\n",
    "import time\n",
    "import rclpy\n",
    "import numpy as np\n",
    "from geometry_msgs.msg import PoseStamped, Pose\n",
    "#for moveit2\n",
    "from moveit.planning import MoveItPy\n",
    "from moveit.core.robot_state import RobotState\n",
    "from moveit.core.kinematic_constraints import construct_joint_constraint\n",
    "from moveit_configs_utils import MoveItConfigsBuilder\n",
    "from ament_index_python.packages import get_package_share_directory\n",
    "# For gripper control\n",
    "from xarm_msgs.srv import MoveCartesian,MoveJoint,MoveHome,Call,SetInt16,SetInt16ById \n",
    "from lite6_arm_interface.srv import FindBoxes\n",
    "from lite6_arm_interface.msg import Box\n",
    "from xarm_msgs.msg import RobotMsg\n",
    "\n",
    "from lite6_arm.robot_control import RobotControl\n",
    "import random \n"
   ]
  },
  {
   "cell_type": "markdown",
   "metadata": {},
   "source": [
    "**we need to specify our moveit_py config at the top of each notebook we use.**\n",
    "**this is since we will start spinning a moveit_py node within this notebook.**"
   ]
  },
  {
   "cell_type": "code",
   "execution_count": null,
   "metadata": {},
   "outputs": [],
   "source": [
    "moveit_config = (\n",
    "        MoveItConfigsBuilder(robot_name=\"UF_ROBOT\", package_name=\"lite6_enrico\")\n",
    "        .robot_description_semantic(file_path=\"config/UF_ROBOT.srdf\")\n",
    "        .trajectory_execution(file_path=\"config/moveit_controllers.yaml\")\n",
    "        .robot_description(file_path=\"config/UF_ROBOT.urdf.xacro\")\n",
    "        .moveit_cpp(\n",
    "            file_path=get_package_share_directory(\"lite6_moveit_demos\")\n",
    "            + \"/config/moveit_cpp.yaml\"\n",
    "        )\n",
    "        .to_moveit_configs()\n",
    "    ).to_dict()"
   ]
  },
  {
   "cell_type": "code",
   "execution_count": null,
   "metadata": {},
   "outputs": [],
   "source": [
    "rclpy.init()"
   ]
  },
  {
   "cell_type": "code",
   "execution_count": null,
   "metadata": {},
   "outputs": [],
   "source": [
    "# Intatiate RobotControl for gripper control\n",
    "node = RobotControl()\n",
    "node.open_gripper()"
   ]
  },
  {
   "cell_type": "code",
   "execution_count": null,
   "metadata": {},
   "outputs": [],
   "source": [
    "#istantiate MoveitPy object \n",
    "moveit = MoveItPy(node_name=\"moveit_py\", config_dict=moveit_config)\n",
    "lite6 = moveit.get_planning_component(\"lite6_arm\")"
   ]
  },
  {
   "cell_type": "code",
   "execution_count": null,
   "metadata": {},
   "outputs": [],
   "source": [
    "lite6.set_start_state_to_current_state()\n",
    "\n",
    "# set constraints message\n",
    "joint_values = {\n",
    "    \"joint1\": math.radians(0),\n",
    "    \"joint2\": math.radians(10.4),\n",
    "    \"joint3\": math.radians(31.1),\n",
    "    \"joint4\": math.radians(-1.5),\n",
    "    \"joint5\": math.radians(21.5),\n",
    "    \"joint6\": math.radians(1.3),\n",
    "}\n",
    "robot_state = RobotState(moveit.get_robot_model())\n",
    "robot_state.joint_positions = joint_values\n",
    "joint_constraint = construct_joint_constraint(\n",
    "    robot_state=robot_state,\n",
    "    joint_model_group=moveit.get_robot_model().get_joint_model_group(\"lite6_arm\"),\n",
    ")\n",
    "lite6.set_goal_state(motion_plan_constraints=[joint_constraint])\n",
    "\n",
    "# plan to goal\n",
    "plan_result = lite6.plan()\n",
    "\n",
    "# execute the plan\n",
    "if plan_result:\n",
    "    robot_trajectory = plan_result.trajectory\n",
    "    moveit.execute(robot_trajectory, controllers=[])"
   ]
  },
  {
   "cell_type": "code",
   "execution_count": null,
   "metadata": {},
   "outputs": [],
   "source": [
    "node.open_gripper()\n",
    "time.sleep(1.0)"
   ]
  },
  {
   "cell_type": "code",
   "execution_count": null,
   "metadata": {},
   "outputs": [],
   "source": [
    "node.close_gripper()"
   ]
  },
  {
   "cell_type": "code",
   "execution_count": null,
   "metadata": {},
   "outputs": [],
   "source": [
    "lite6.set_start_state_to_current_state()\n",
    "lite6.set_goal_state(configuration_name=\"Ready\")\n",
    "# plan to goal\n",
    "plan_result = lite6.plan()\n",
    "\n",
    "# execute the plan\n",
    "if plan_result:\n",
    "    robot_trajectory = plan_result.trajectory\n",
    "    moveit.execute(robot_trajectory, controllers=[])"
   ]
  },
  {
   "cell_type": "markdown",
   "metadata": {},
   "source": [
    "**Create a node that give to the joint randomic values**\n",
    "\n",
    "the only problem is: I can't put just random values for the joint, they have to be random VALID. \n",
    "How can I actually do that?"
   ]
  },
  {
   "cell_type": "markdown",
   "metadata": {},
   "source": []
  }
 ],
 "metadata": {
  "kernelspec": {
   "display_name": "Python 3",
   "language": "python",
   "name": "python3"
  },
  "language_info": {
   "codemirror_mode": {
    "name": "ipython",
    "version": 3
   },
   "file_extension": ".py",
   "mimetype": "text/x-python",
   "name": "python",
   "nbconvert_exporter": "python",
   "pygments_lexer": "ipython3",
   "version": "3.10.12"
  }
 },
 "nbformat": 4,
 "nbformat_minor": 2
}
