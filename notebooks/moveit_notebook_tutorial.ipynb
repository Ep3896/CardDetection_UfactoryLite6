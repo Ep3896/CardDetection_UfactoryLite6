{
 "cells": [
  {
   "cell_type": "markdown",
   "id": "4df8633e",
   "metadata": {},
   "source": [
    "# Introduction\n",
    "\n",
    "Welcome to this tutorial on using jupyter notebooks with Moveit 2. A great benefit of being able to interact with MoveIt via a Python notebook is the ability to rapidly prototype code. We hope you find this interface intuitive and that you gain value from using MoveIt via Python notebooks.\n",
    "\n",
    "In this tutorial we will cover the following: \n",
    "\n",
    "* The required imports to run the notebook\n",
    "* A motion planning example\n",
    "* A teleoperation example\n",
    "\n",
    "If you have suggestions or feedback for this tutorial please post an issue on GitHub (https://github.com/ros-planning/moveit2_tutorials) and tag @peterdavidfagan."
   ]
  },
  {
   "cell_type": "markdown",
   "id": "91901c66",
   "metadata": {},
   "source": [
    "## Imports\n",
    "\n",
    "Note: to launch this notebook and the nodes it depends on you must first specify a launch file. Details are provided earlier in this tutorial ()."
   ]
  },
  {
   "cell_type": "code",
   "execution_count": 1,
   "id": "7bd810f5",
   "metadata": {},
   "outputs": [
    {
     "name": "stderr",
     "output_type": "stream",
     "text": [
      "warning: Using load_yaml() directly is deprecated. Use xacro.load_yaml() instead.\n"
     ]
    }
   ],
   "source": [
    "import os\n",
    "import math\n",
    "import sys\n",
    "import yaml\n",
    "import rclpy\n",
    "import numpy as np\n",
    "\n",
    "# message libraries\n",
    "from geometry_msgs.msg import PoseStamped, Pose\n",
    "\n",
    "# moveit_py\n",
    "from moveit.planning import MoveItPy\n",
    "from moveit.core.robot_state import RobotState\n",
    "from moveit.core.kinematic_constraints import construct_joint_constraint\n",
    "\n",
    "# config file libraries\n",
    "from moveit_configs_utils import MoveItConfigsBuilder\n",
    "from ament_index_python.packages import get_package_share_directory\n",
    "\n",
    "\n",
    "# we need to specify our moveit_py config at the top of each notebook we use. \n",
    "# this is since we will start spinning a moveit_py node within this notebook.\n",
    "\n",
    "moveit_config = (\n",
    "        MoveItConfigsBuilder(robot_name=\"UF_ROBOT\", package_name=\"lite6_enrico\")\n",
    "        .robot_description_semantic(file_path=\"config/UF_ROBOT.srdf\")\n",
    "        .trajectory_execution(file_path=\"config/moveit_controllers.yaml\")\n",
    "        .robot_description(file_path=\"config/UF_ROBOT.urdf.xacro\")\n",
    "        .moveit_cpp(\n",
    "            file_path=get_package_share_directory(\"lite6_moveit_demos\")\n",
    "            + \"/config/moveit_cpp.yaml\"\n",
    "        )\n",
    "        .to_moveit_configs()\n",
    "    ).to_dict()\n"
   ]
  },
  {
   "cell_type": "markdown",
   "id": "d44015e2",
   "metadata": {},
   "source": [
    "## Setup"
   ]
  },
  {
   "cell_type": "code",
   "execution_count": 2,
   "id": "f9d767d3",
   "metadata": {},
   "outputs": [
    {
     "name": "stderr",
     "output_type": "stream",
     "text": [
      "[INFO] [1713539298.636103333] [moveit_3122146238.moveit.py.cpp_initializer]: Initialize rclcpp\n",
      "[INFO] [1713539298.636162218] [moveit_3122146238.moveit.py.cpp_initializer]: Initialize node parameters\n",
      "[INFO] [1713539298.636177481] [moveit_3122146238.moveit.py.cpp_initializer]: Initialize node and executor\n",
      "[INFO] [1713539298.655956718] [moveit_3122146238.moveit.py.cpp_initializer]: Spin separate thread\n",
      "[INFO] [1713539298.695991909] [moveit_3122146238.moveit.ros.rdf_loader]: Loaded robot model in 0.00543863 seconds\n",
      "[INFO] [1713539298.696037436] [moveit_3122146238.moveit.core.robot_model]: Loading robot model 'UF_ROBOT'...\n",
      "[INFO] [1713539298.696050706] [moveit_3122146238.moveit.core.robot_model]: No root/virtual joint specified in SRDF. Assuming fixed joint\n",
      "[INFO] [1713539298.737673573] [moveit_3122146238.moveit.kinematics.kdl_kinematics_plugin]: Joint weights for group 'lite6_arm': 1 1 1 1 1 1\n",
      "[INFO] [1713539298.826958235] [moveit_3122146238.moveit.ros.planning_scene_monitor]: Publishing maintained planning scene on 'monitored_planning_scene'\n",
      "[INFO] [1713539298.827139638] [moveit_3122146238.moveit.ros.moveit_cpp]: Listening to '/joint_states' for joint states\n",
      "[INFO] [1713539298.827500790] [moveit_3122146238.moveit.ros.current_state_monitor]: Listening to joint states on topic '/joint_states'\n",
      "[INFO] [1713539298.828017195] [moveit_3122146238.moveit.ros.planning_scene_monitor]: Listening to '/moveit_cpp/planning_scene_monitor' for attached collision objects\n",
      "[INFO] [1713539298.828034112] [moveit_3122146238.moveit.ros.planning_scene_monitor]: Stopping existing planning scene publisher.\n",
      "[INFO] [1713539298.828176670] [moveit_3122146238.moveit.ros.planning_scene_monitor]: Stopped publishing maintained planning scene.\n",
      "[INFO] [1713539298.829751448] [moveit_3122146238.moveit.ros.planning_scene_monitor]: Publishing maintained planning scene on '/moveit_cpp/monitored_planning_scene'\n",
      "[INFO] [1713539298.829866414] [moveit_3122146238.moveit.ros.planning_scene_monitor]: Starting planning scene monitor\n",
      "[INFO] [1713539298.831343649] [moveit_3122146238.moveit.ros.planning_scene_monitor]: Listening to '/moveit_cpp/publish_planning_scene'\n",
      "[INFO] [1713539298.831360916] [moveit_3122146238.moveit.ros.planning_scene_monitor]: Starting world geometry update monitor for collision objects, attached objects, octomap updates.\n",
      "[INFO] [1713539298.831915473] [moveit_3122146238.moveit.ros.planning_scene_monitor]: Listening to 'collision_object'\n",
      "[INFO] [1713539298.832513625] [moveit_3122146238.moveit.ros.planning_scene_monitor]: Listening to 'planning_scene_world' for planning scene world geometry\n",
      "[WARN] [1713539298.834685808] [moveit_3122146238.moveit.ros.occupancy_map_monitor]: Resolution not specified for Octomap. Assuming resolution = 0.1 instead\n",
      "[ERROR] [1713539298.834717532] [moveit_3122146238.moveit.ros.occupancy_map_monitor]: No 3D sensor plugin(s) defined for octomap updates\n",
      "[INFO] [1713539298.873084281] [moveit_3122146238.moveit.ros.planning_pipeline]: Successfully loaded planner 'OMPL'\n",
      "[INFO] [1713539298.880808732] [moveit_py]: Try loading adapter 'default_planning_request_adapters/ResolveConstraintFrames'\n",
      "[INFO] [1713539298.883059585] [moveit_py]: Loaded adapter 'default_planning_request_adapters/ResolveConstraintFrames'\n",
      "[INFO] [1713539298.883104911] [moveit_py]: Try loading adapter 'default_planning_request_adapters/ValidateWorkspaceBounds'\n",
      "[INFO] [1713539298.883454694] [moveit_py]: Loaded adapter 'default_planning_request_adapters/ValidateWorkspaceBounds'\n",
      "[INFO] [1713539298.883479898] [moveit_py]: Try loading adapter 'default_planning_request_adapters/CheckStartStateBounds'\n",
      "[INFO] [1713539298.883520797] [moveit_py]: Loaded adapter 'default_planning_request_adapters/CheckStartStateBounds'\n",
      "[INFO] [1713539298.883539032] [moveit_py]: Try loading adapter 'default_planning_request_adapters/CheckStartStateCollision'\n",
      "[INFO] [1713539298.883581078] [moveit_py]: Loaded adapter 'default_planning_request_adapters/CheckStartStateCollision'\n",
      "[INFO] [1713539298.894151796] [moveit_py]: Try loading adapter 'default_planning_response_adapters/AddTimeOptimalParameterization'\n",
      "[INFO] [1713539298.897346316] [moveit_py]: Loaded adapter 'default_planning_response_adapters/AddTimeOptimalParameterization'\n",
      "[INFO] [1713539298.897387957] [moveit_py]: Try loading adapter 'default_planning_response_adapters/ValidateSolution'\n",
      "[INFO] [1713539298.898589061] [moveit_py]: Loaded adapter 'default_planning_response_adapters/ValidateSolution'\n",
      "[INFO] [1713539298.898621996] [moveit_py]: Try loading adapter 'default_planning_response_adapters/DisplayMotionPath'\n",
      "[INFO] [1713539298.899771233] [moveit_py]: Loaded adapter 'default_planning_response_adapters/DisplayMotionPath'\n",
      "[INFO] [1713539298.912943049] [moveit_3122146238.moveit.planners.pilz.joint_limits_aggregator]: Reading limits from namespace robot_description_planning\n",
      "[INFO] [1713539298.925742687] [moveit_3122146238.moveit.planners.pilz.command_planner]: Available plugins: pilz_industrial_motion_planner/PlanningContextLoaderCIRC pilz_industrial_motion_planner/PlanningContextLoaderLIN pilz_industrial_motion_planner/PlanningContextLoaderPTP \n",
      "[INFO] [1713539298.925776378] [moveit_3122146238.moveit.planners.pilz.command_planner]: About to load: pilz_industrial_motion_planner/PlanningContextLoaderCIRC\n",
      "[INFO] [1713539298.927871784] [moveit_3122146238.moveit.planners.pilz.command_planner]: Registered Algorithm [CIRC]\n",
      "[INFO] [1713539298.927891755] [moveit_3122146238.moveit.planners.pilz.command_planner]: About to load: pilz_industrial_motion_planner/PlanningContextLoaderLIN\n",
      "[INFO] [1713539298.929535718] [moveit_3122146238.moveit.planners.pilz.command_planner]: Registered Algorithm [LIN]\n",
      "[INFO] [1713539298.929559682] [moveit_3122146238.moveit.planners.pilz.command_planner]: About to load: pilz_industrial_motion_planner/PlanningContextLoaderPTP\n",
      "[INFO] [1713539298.931565040] [moveit_3122146238.moveit.planners.pilz.command_planner]: Registered Algorithm [PTP]\n",
      "[INFO] [1713539298.931589960] [moveit_3122146238.moveit.ros.planning_pipeline]: Successfully loaded planner 'Pilz Industrial Motion Planner'\n",
      "[INFO] [1713539298.939238428] [moveit_py]: Try loading adapter 'default_planning_request_adapters/ResolveConstraintFrames'\n",
      "[INFO] [1713539298.939779178] [moveit_py]: Loaded adapter 'default_planning_request_adapters/ResolveConstraintFrames'\n",
      "[INFO] [1713539298.939798785] [moveit_py]: Try loading adapter 'default_planning_request_adapters/ValidateWorkspaceBounds'\n",
      "[INFO] [1713539298.940129600] [moveit_py]: Loaded adapter 'default_planning_request_adapters/ValidateWorkspaceBounds'\n",
      "[INFO] [1713539298.940159020] [moveit_py]: Try loading adapter 'default_planning_request_adapters/CheckStartStateBounds'\n",
      "[INFO] [1713539298.940220588] [moveit_py]: Loaded adapter 'default_planning_request_adapters/CheckStartStateBounds'\n",
      "[INFO] [1713539298.940242527] [moveit_py]: Try loading adapter 'default_planning_request_adapters/CheckStartStateCollision'\n",
      "[INFO] [1713539298.940281289] [moveit_py]: Loaded adapter 'default_planning_request_adapters/CheckStartStateCollision'\n",
      "[INFO] [1713539298.947839903] [moveit_py]: Try loading adapter 'default_planning_response_adapters/ValidateSolution'\n",
      "[INFO] [1713539298.951459289] [moveit_py]: Loaded adapter 'default_planning_response_adapters/ValidateSolution'\n",
      "[INFO] [1713539298.951611846] [moveit_py]: Try loading adapter 'default_planning_response_adapters/DisplayMotionPath'\n",
      "[INFO] [1713539298.953141593] [moveit_py]: Loaded adapter 'default_planning_response_adapters/DisplayMotionPath'\n",
      "[INFO] [1713539298.968886946] [moveit_3122146238.moveit.ros.planning_pipeline]: Successfully loaded planner 'CHOMP'\n",
      "[INFO] [1713539298.975871656] [moveit_py]: Try loading adapter 'default_planning_request_adapters/ResolveConstraintFrames'\n",
      "[INFO] [1713539298.976419671] [moveit_py]: Loaded adapter 'default_planning_request_adapters/ResolveConstraintFrames'\n",
      "[INFO] [1713539298.976437648] [moveit_py]: Try loading adapter 'default_planning_request_adapters/ValidateWorkspaceBounds'\n",
      "[INFO] [1713539298.976826351] [moveit_py]: Loaded adapter 'default_planning_request_adapters/ValidateWorkspaceBounds'\n",
      "[INFO] [1713539298.976854245] [moveit_py]: Try loading adapter 'default_planning_request_adapters/CheckStartStateBounds'\n",
      "[INFO] [1713539298.976945591] [moveit_py]: Loaded adapter 'default_planning_request_adapters/CheckStartStateBounds'\n",
      "[INFO] [1713539298.976964192] [moveit_py]: Try loading adapter 'default_planning_request_adapters/CheckStartStateCollision'\n",
      "[INFO] [1713539298.976996196] [moveit_py]: Loaded adapter 'default_planning_request_adapters/CheckStartStateCollision'\n",
      "[INFO] [1713539298.986549263] [moveit_py]: Try loading adapter 'default_planning_response_adapters/AddTimeOptimalParameterization'\n",
      "[INFO] [1713539298.987711534] [moveit_py]: Loaded adapter 'default_planning_response_adapters/AddTimeOptimalParameterization'\n",
      "[INFO] [1713539298.987741988] [moveit_py]: Try loading adapter 'default_planning_response_adapters/ValidateSolution'\n",
      "[INFO] [1713539298.988328439] [moveit_py]: Loaded adapter 'default_planning_response_adapters/ValidateSolution'\n",
      "[INFO] [1713539298.988360742] [moveit_py]: Try loading adapter 'default_planning_response_adapters/DisplayMotionPath'\n",
      "[INFO] [1713539298.989386006] [moveit_py]: Loaded adapter 'default_planning_response_adapters/DisplayMotionPath'\n",
      "[INFO] [1713539299.029495592] [moveit_3122146238.moveit.plugins.simple_controller_manager]: Added FollowJointTrajectory controller for lite6_arm_controller\n",
      "[INFO] [1713539299.029678156] [moveit_3122146238.moveit.plugins.simple_controller_manager]: Returned 1 controllers in list\n",
      "[INFO] [1713539299.029706185] [moveit_3122146238.moveit.plugins.simple_controller_manager]: Returned 1 controllers in list\n",
      "[INFO] [1713539299.030065207] [moveit_3122146238.moveit.ros.trajectory_execution_manager]: Trajectory execution is managing controllers\n"
     ]
    }
   ],
   "source": [
    "# initialise rclpy (only for logging purposes)\n",
    "#rclpy.init()\n",
    "\n",
    "# instantiate moveit_py instance and a planning component for the panda_arm\n",
    "moveit = MoveItPy(node_name=\"moveit_py\", config_dict=moveit_config)\n",
    "lite6 = moveit.get_planning_component(\"lite6_arm\")"
   ]
  },
  {
   "cell_type": "markdown",
   "id": "2f72a61e",
   "metadata": {},
   "source": [
    "## Motion Planning Example"
   ]
  },
  {
   "cell_type": "code",
   "execution_count": 3,
   "id": "2cf83a9c",
   "metadata": {},
   "outputs": [
    {
     "name": "stderr",
     "output_type": "stream",
     "text": [
      "[WARN] [1713539301.488820058] [moveit_py]: Parameter 'plan_request_params.planning_time' not found in config use default value instead, check parameter type and namespace in YAML file\n",
      "[INFO] [1713539301.489029549] [moveit_py]: Calling PlanningRequestAdapter 'ResolveConstraintFrames'\n",
      "[INFO] [1713539301.489126229] [moveit_py]: Calling PlanningRequestAdapter 'ValidateWorkspaceBounds'\n",
      "[WARN] [1713539301.489138898] [moveit_3122146238.moveit.ros.validate_workspace_bounds]: It looks like the planning volume was not specified. Using default values.\n",
      "[INFO] [1713539301.489184621] [moveit_py]: Calling PlanningRequestAdapter 'CheckStartStateBounds'\n",
      "[INFO] [1713539301.489241329] [moveit_py]: Calling PlanningRequestAdapter 'CheckStartStateCollision'\n",
      "[INFO] [1713539301.489445032] [moveit_3122146238.moveit.planners.pilz.trajectory_generator.ptp]: Initialized Point-to-Point Trajectory Generator.\n",
      "[INFO] [1713539301.489470185] [moveit_py]: Calling Planner 'Pilz Industrial Motion Planner'\n",
      "[INFO] [1713539301.508190926] [moveit_3122146238.moveit.planners.pilz.trajectory_generator]: Generating PTP trajectory...\n",
      "[INFO] [1713539301.508712181] [moveit_py]: Calling PlanningResponseAdapter 'ValidateSolution'\n",
      "[INFO] [1713539301.508983847] [moveit_py]: Calling PlanningResponseAdapter 'DisplayMotionPath'\n",
      "[INFO] [1713539301.509975549] [moveit_3122146238.moveit.plugins.simple_controller_manager]: Returned 1 controllers in list\n",
      "[INFO] [1713539301.510009958] [moveit_3122146238.moveit.plugins.simple_controller_manager]: Returned 1 controllers in list\n",
      "[INFO] [1713539301.510036542] [moveit_3122146238.moveit.plugins.simple_controller_manager]: Returned 1 controllers in list\n",
      "[INFO] [1713539301.510045434] [moveit_3122146238.moveit.plugins.simple_controller_manager]: Returned 1 controllers in list\n",
      "[INFO] [1713539301.510069103] [moveit_3122146238.moveit.ros.trajectory_execution_manager]: Validating trajectory with allowed_start_tolerance 0.01\n",
      "[INFO] [1713539301.514640124] [moveit_3122146238.moveit.ros.trajectory_execution_manager]: Starting trajectory execution ...\n",
      "[INFO] [1713539301.514701835] [moveit_3122146238.moveit.plugins.simple_controller_manager]: Returned 1 controllers in list\n",
      "[INFO] [1713539301.514722529] [moveit_3122146238.moveit.plugins.simple_controller_manager]: Returned 1 controllers in list\n",
      "[INFO] [1713539301.514851424] [moveit.simple_controller_manager.follow_joint_trajectory_controller_handle]: sending trajectory to lite6_arm_controller\n",
      "[INFO] [1713539301.515308654] [moveit.simple_controller_manager.follow_joint_trajectory_controller_handle]: lite6_arm_controller started execution\n",
      "[INFO] [1713539301.515337812] [moveit.simple_controller_manager.follow_joint_trajectory_controller_handle]: Goal request accepted!\n",
      "[INFO] [1713539302.265812024] [moveit.simple_controller_manager.follow_joint_trajectory_controller_handle]: Controller 'lite6_arm_controller' successfully finished\n",
      "[INFO] [1713539302.294348416] [moveit_3122146238.moveit.ros.trajectory_execution_manager]: Completed trajectory execution with status SUCCEEDED ...\n"
     ]
    }
   ],
   "source": [
    "lite6.set_start_state_to_current_state()\n",
    "\n",
    "# set constraints message\n",
    "joint_values = {\n",
    "    \"joint1\": math.radians(0),\n",
    "    \"joint2\": math.radians(10.4),\n",
    "    \"joint3\": math.radians(31.1),\n",
    "    \"joint4\": math.radians(-1.5),\n",
    "    \"joint5\": math.radians(21.5),\n",
    "    \"joint6\": math.radians(1.3),\n",
    "}\n",
    "robot_state = RobotState(moveit.get_robot_model())\n",
    "robot_state.joint_positions = joint_values\n",
    "joint_constraint = construct_joint_constraint(\n",
    "    robot_state=robot_state,\n",
    "    joint_model_group=moveit.get_robot_model().get_joint_model_group(\"lite6_arm\"),\n",
    ")\n",
    "lite6.set_goal_state(motion_plan_constraints=[joint_constraint])\n",
    "\n",
    "# plan to goal\n",
    "plan_result = lite6.plan()\n",
    "\n",
    "# execute the plan\n",
    "if plan_result:\n",
    "    robot_trajectory = plan_result.trajectory\n",
    "    moveit.execute(robot_trajectory, controllers=[])"
   ]
  },
  {
   "cell_type": "code",
   "execution_count": 4,
   "id": "2f590234",
   "metadata": {},
   "outputs": [
    {
     "name": "stderr",
     "output_type": "stream",
     "text": [
      "[WARN] [1713539306.902989220] [moveit_py]: Parameter 'plan_request_params.planning_time' not found in config use default value instead, check parameter type and namespace in YAML file\n",
      "[INFO] [1713539306.903275702] [moveit_py]: Calling PlanningRequestAdapter 'ResolveConstraintFrames'\n",
      "[INFO] [1713539306.903457333] [moveit_py]: Calling PlanningRequestAdapter 'ValidateWorkspaceBounds'\n",
      "[WARN] [1713539306.903495824] [moveit_3122146238.moveit.ros.validate_workspace_bounds]: It looks like the planning volume was not specified. Using default values.\n",
      "[INFO] [1713539306.903565563] [moveit_py]: Calling PlanningRequestAdapter 'CheckStartStateBounds'\n",
      "[INFO] [1713539306.903659362] [moveit_py]: Calling PlanningRequestAdapter 'CheckStartStateCollision'\n",
      "[INFO] [1713539306.903796103] [moveit_3122146238.moveit.planners.pilz.trajectory_generator.ptp]: Initialized Point-to-Point Trajectory Generator.\n",
      "[INFO] [1713539306.903815015] [moveit_py]: Calling Planner 'Pilz Industrial Motion Planner'\n",
      "[INFO] [1713539306.903835801] [moveit_3122146238.moveit.planners.pilz.trajectory_generator]: Generating PTP trajectory...\n",
      "[INFO] [1713539306.904108243] [moveit_py]: Calling PlanningResponseAdapter 'ValidateSolution'\n",
      "[INFO] [1713539306.904515703] [moveit_py]: Calling PlanningResponseAdapter 'DisplayMotionPath'\n",
      "[INFO] [1713539306.905258578] [moveit_3122146238.moveit.plugins.simple_controller_manager]: Returned 1 controllers in list\n",
      "[INFO] [1713539306.905296899] [moveit_3122146238.moveit.plugins.simple_controller_manager]: Returned 1 controllers in list\n",
      "[INFO] [1713539306.905327705] [moveit_3122146238.moveit.plugins.simple_controller_manager]: Returned 1 controllers in list\n",
      "[INFO] [1713539306.905340137] [moveit_3122146238.moveit.plugins.simple_controller_manager]: Returned 1 controllers in list\n",
      "[INFO] [1713539306.905367172] [moveit_3122146238.moveit.ros.trajectory_execution_manager]: Validating trajectory with allowed_start_tolerance 0.01\n",
      "[INFO] [1713539306.914622004] [moveit_3122146238.moveit.ros.trajectory_execution_manager]: Starting trajectory execution ...\n",
      "[INFO] [1713539306.914668816] [moveit_3122146238.moveit.plugins.simple_controller_manager]: Returned 1 controllers in list\n",
      "[INFO] [1713539306.914687658] [moveit_3122146238.moveit.plugins.simple_controller_manager]: Returned 1 controllers in list\n",
      "[INFO] [1713539306.914803578] [moveit.simple_controller_manager.follow_joint_trajectory_controller_handle]: sending trajectory to lite6_arm_controller\n",
      "[INFO] [1713539306.915167858] [moveit.simple_controller_manager.follow_joint_trajectory_controller_handle]: lite6_arm_controller started execution\n",
      "[INFO] [1713539306.915185404] [moveit.simple_controller_manager.follow_joint_trajectory_controller_handle]: Goal request accepted!\n",
      "[INFO] [1713539308.165601878] [moveit.simple_controller_manager.follow_joint_trajectory_controller_handle]: Controller 'lite6_arm_controller' successfully finished\n",
      "[INFO] [1713539308.194426759] [moveit_3122146238.moveit.ros.trajectory_execution_manager]: Completed trajectory execution with status SUCCEEDED ...\n"
     ]
    }
   ],
   "source": [
    "lite6.set_start_state_to_current_state()\n",
    "lite6.set_goal_state(configuration_name=\"Ready\")\n",
    "# plan to goal\n",
    "plan_result = lite6.plan()\n",
    "\n",
    "# execute the plan\n",
    "if plan_result:\n",
    "    robot_trajectory = plan_result.trajectory\n",
    "    moveit.execute(robot_trajectory, controllers=[])"
   ]
  },
  {
   "cell_type": "code",
   "execution_count": null,
   "id": "08ca9268",
   "metadata": {},
   "outputs": [],
   "source": []
  },
  {
   "cell_type": "markdown",
   "id": "1c53b46f",
   "metadata": {},
   "source": [
    "## Teleop"
   ]
  },
  {
   "cell_type": "code",
   "execution_count": null,
   "id": "23c6e96b",
   "metadata": {},
   "outputs": [],
   "source": []
  }
 ],
 "metadata": {
  "kernelspec": {
   "display_name": "Python 3 (ipykernel)",
   "language": "python",
   "name": "python3"
  },
  "language_info": {
   "codemirror_mode": {
    "name": "ipython",
    "version": 3
   },
   "file_extension": ".py",
   "mimetype": "text/x-python",
   "name": "python",
   "nbconvert_exporter": "python",
   "pygments_lexer": "ipython3",
   "version": "3.10.12"
  }
 },
 "nbformat": 4,
 "nbformat_minor": 5
}
