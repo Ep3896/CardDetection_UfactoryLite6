{
 "cells": [
  {
   "cell_type": "code",
   "execution_count": null,
   "metadata": {},
   "outputs": [],
   "source": [
    "#!/usr/bin/env python3"
   ]
  },
  {
   "cell_type": "markdown",
   "metadata": {},
   "source": [
    "**This script serves to outline foundamental concepts of the moveit_py motion planning**"
   ]
  },
  {
   "cell_type": "code",
   "execution_count": null,
   "metadata": {},
   "outputs": [],
   "source": [
    "import time\n",
    "import rclpy\n",
    "from rclpy.logging import get_logger\n",
    "#import moveit python library\n",
    "from moveit.core.robot_state import RobotState\n",
    "from moveit.planning import (MoveItPy,MultiPipelinePlanRequestParameters)"
   ]
  },
  {
   "cell_type": "code",
   "execution_count": null,
   "metadata": {},
   "outputs": [],
   "source": [
    "failed = True"
   ]
  },
  {
   "cell_type": "code",
   "execution_count": null,
   "metadata": {},
   "outputs": [],
   "source": [
    "def plan_and_execute(\n",
    "    robot,\n",
    "    planning_component,\n",
    "    logger,\n",
    "    single_plan_parameters=None,\n",
    "    multi_plan_parameters=None,\n",
    "    sleep_time=0.0,\n",
    "):\n",
    "    \"\"\"Helper function to plan and execute a motion.\"\"\"\n",
    "    # plan to goal\n",
    "    logger.info(\"Planning trajectory\")\n",
    "    if multi_plan_parameters is not None:\n",
    "        plan_result = planning_component.plan(\n",
    "            multi_plan_parameters=multi_plan_parameters\n",
    "        )\n",
    "    elif single_plan_parameters is not None:\n",
    "        plan_result = planning_component.plan(\n",
    "            single_plan_parameters=single_plan_parameters\n",
    "        )\n",
    "    else:\n",
    "        plan_result = planning_component.plan()\n",
    "\n",
    "    # execute the plan\n",
    "    if plan_result:\n",
    "        logger.info(\"Executing plan\")\n",
    "        robot_trajectory = plan_result.trajectory\n",
    "        robot.execute(robot_trajectory, controllers=[])\n",
    "    else:\n",
    "        logger.error(\"Planning failed\")\n",
    "\n",
    "    time.sleep(sleep_time)\n"
   ]
  },
  {
   "cell_type": "markdown",
   "metadata": {},
   "source": [
    "**Here the main function begins, so it is really important to define the steps that are inside the main function**"
   ]
  },
  {
   "cell_type": "code",
   "execution_count": null,
   "metadata": {},
   "outputs": [],
   "source": [
    "def set_states_from_poses(): # this function is an example of how to set start and goal states using predefined poses\n",
    "    # set start state using predifined state\n",
    "    lite6_arm.set_start_state(configuration_name=\"Ready\")\n",
    "    # set goal state using predifined state\n",
    "    lite6_arm.set_goal_state(configuration_name=\"Extended\") # it does not exist yet!!\n",
    "    # plan to goal\n",
    "    plan_and_execute(lite6, lite6_arm, logger, sleep_time=3.0)"
   ]
  },
  {
   "cell_type": "code",
   "execution_count": null,
   "metadata": {},
   "outputs": [],
   "source": [
    "def set_goal_robot_state():\n",
    "    # instantiate a RobotState instance using the current robot model\n",
    "    robot_model = lite6.get_robot_model()\n",
    "    robot_state = RobotState(robot_model)\n",
    "    # randomize the robot state\n",
    "    robot_state.set_to_random_positions()\n",
    "    # set plan start state to current state\n",
    "    lite6_arm.set_start_state_to_current_state()\n",
    "    # set goal state to initialized robot state\n",
    "    logger.info(\"Set goal state to the initialized robot state\")\n",
    "    lite6_arm.set_goal_state(robot_state=robot_state)\n",
    "    # plan to goal\n",
    "    plan_and_execute(lite6, lite6_arm, logger, sleep_time=3.0)\n",
    "    "
   ]
  },
  {
   "cell_type": "code",
   "execution_count": null,
   "metadata": {},
   "outputs": [],
   "source": [
    "def set_goal_Pose_Stamped(): # ATTENZIONE! \" I would suggest using something like numpy-quaternion for making sure your input quaternion is valid and properly normalized, since it's very easy to run into precision issues\"\n",
    "    # Se i valori delle pose non sono ben normalizzati, il comando non diventa valido!\n",
    "    # set start state to current state\n",
    "    lite6_arm.set_start_state_to_current_state()\n",
    "\n",
    "    # set pose goal with PoseStamped messsage\n",
    "    from geometry_msgs.msg import PoseStamped\n",
    "\n",
    "    pose_goal = PoseStamped()\n",
    "    pose_goal.header.frame_id = \"link_base\"\n",
    "    pose_goal.pose.orientation.w = 1.0\n",
    "    pose_goal.pose.position.x = 0.28\n",
    "    pose_goal.pose.position.y = -0.2\n",
    "    pose_goal.pose.position.z = 0.5\n",
    "    lite6_arm.set_goal_state(pose_stamped_msg=pose_goal, pose_link=\"link_tcp\")\n",
    "    print(\"aggiornato\")\n",
    "\n",
    "    # plan to goal\n",
    "    plan_and_execute(lite6, lite6_arm, logger, sleep_time=3.0)"
   ]
  },
  {
   "cell_type": "code",
   "execution_count": null,
   "metadata": {},
   "outputs": [],
   "source": [
    "import numpy as np\n",
    "from geometry_msgs.msg import PoseStamped, Pose    # set pose goal with PoseStamped messsage\n",
    "\n",
    "from math import pi"
   ]
  },
  {
   "cell_type": "code",
   "execution_count": null,
   "metadata": {},
   "outputs": [],
   "source": [
    "def get_quaternion_from_euler(roll, pitch, yaw):\n",
    "  \"\"\"\n",
    "  Convert an Euler angle to a quaternion.\n",
    "   \n",
    "  Input\n",
    "    :param roll: The roll (rotation around x-axis) angle in radians.\n",
    "    :param pitch: The pitch (rotation around y-axis) angle in radians.\n",
    "    :param yaw: The yaw (rotation around z-axis) angle in radians.\n",
    " \n",
    "  Output\n",
    "    :return qx, qy, qz, qw: The orientation in quaternion [x,y,z,w] format\n",
    "  \"\"\"\n",
    "  qx = np.sin(roll/2) * np.cos(pitch/2) * np.cos(yaw/2) - np.cos(roll/2) * np.sin(pitch/2) * np.sin(yaw/2)\n",
    "  qy = np.cos(roll/2) * np.sin(pitch/2) * np.cos(yaw/2) + np.sin(roll/2) * np.cos(pitch/2) * np.sin(yaw/2)\n",
    "  qz = np.cos(roll/2) * np.cos(pitch/2) * np.sin(yaw/2) - np.sin(roll/2) * np.sin(pitch/2) * np.cos(yaw/2)\n",
    "  qw = np.cos(roll/2) * np.cos(pitch/2) * np.cos(yaw/2) + np.sin(roll/2) * np.sin(pitch/2) * np.sin(yaw/2)\n",
    " \n",
    "  return [qx, qy, qz, qw]"
   ]
  },
  {
   "cell_type": "code",
   "execution_count": null,
   "metadata": {},
   "outputs": [],
   "source": [
    "print(get_quaternion_from_euler(pi/6,0,pi/2))\n",
    "good_configurations = []"
   ]
  },
  {
   "cell_type": "code",
   "execution_count": null,
   "metadata": {},
   "outputs": [],
   "source": [
    "def set_goal_from_angles(roll, pitch, yaw): # ATTENZIONE! \" I would suggest using something like numpy-quaternion for making sure your input quaternion is valid and properly normalized, since it's very easy to run into precision issues\"\n",
    "    # Se i valori delle pose non sono ben normalizzati, il comando non diventa valido!\n",
    "    # set start state to current state\n",
    "    lite6_arm.set_start_state_to_current_state()\n",
    "\n",
    "    quaternion = get_quaternion_from_euler (roll, pitch, yaw)\n",
    "\n",
    "    pose_goal = PoseStamped()\n",
    "    pose_goal.header.frame_id = \"link_base\"\n",
    "    pose_goal.pose.orientation.w = quaternion[3]\n",
    "    pose_goal.pose.position.x = quaternion[0]\n",
    "    pose_goal.pose.position.y = quaternion[1]\n",
    "    pose_goal.pose.position.z = quaternion[2]\n",
    "    lite6_arm.set_goal_state(pose_stamped_msg=pose_goal, pose_link=\"link_tcp\")\n",
    "\n",
    "    # plan to goal\n",
    "    plan_and_execute(lite6, lite6_arm, logger, sleep_time=3.0)\n",
    "    if failed == False:\n",
    "        print(\"It has worked\")\n",
    "        # if the the configuration is valid, we store it in the list\n",
    "        good_configurations.append([roll, pitch, yaw])\n",
    "    else:\n",
    "        print(\"NOT worked\")"
   ]
  },
  {
   "cell_type": "code",
   "execution_count": null,
   "metadata": {},
   "outputs": [],
   "source": [
    "print(get_quaternion_from_euler(0,0,-pi/2))\n",
    "magnitude = np.linalg.norm(get_quaternion_from_euler(0,0,-pi/2))\n",
    "print(\"Magnitude:\", magnitude)"
   ]
  },
  {
   "cell_type": "markdown",
   "metadata": {},
   "source": [
    "**l'ipotesi iniziale era che il risultato del braccio dipendesse dalla difficoltà che esso ha nel trovare una soluzione idonea\n",
    "Sfortunatamene non sembra così, infatti le configurazioni utili del braccio permettono in qualsiasi altra posizione (a quanto ho visto ora) di far muovere il braccio stesso, quindi sono configurazioni apparentemenre sempre valide**\n",
    "\n",
    "# La roll del braccio deve essere sempre attorno a -pi/2!\n"
   ]
  },
  {
   "cell_type": "code",
   "execution_count": null,
   "metadata": {},
   "outputs": [],
   "source": [
    "def set_goal_constraints():\n",
    "    robot_model = lite6.get_robot_model()\n",
    "    robot_state = RobotState(robot_model)\n",
    "    # set start state to current state\n",
    "    lite6_arm.set_start_state_to_current_state()\n",
    "    # set contraints message\n",
    "    from moveit.core.kinematic_constraints import construct_joint_constraint\n",
    "\n",
    "\n",
    "    joint_values = {\n",
    "        \"joint1\": -1.0,\n",
    "        \"joint2\": 0.7,\n",
    "        \"joint3\": 0.7,\n",
    "        \"joint4\": -1.5,\n",
    "        \"joint5\": -0.7,\n",
    "        \"joint6\": 2.0,\n",
    "    }\n",
    "    robot_state.joint_positions = joint_values\n",
    "    joint_constraint = construct_joint_constraint(\n",
    "        robot_state=robot_state,\n",
    "        joint_model_group=lite6.get_robot_model().get_joint_model_group(\"lite6_arm\"),\n",
    "    )\n",
    "    lite6_arm.set_goal_state(motion_plan_constraints=[joint_constraint])\n",
    "\n",
    "    # plan to goal\n",
    "    plan_and_execute(lite6, lite6_arm, logger, sleep_time=3.0)"
   ]
  },
  {
   "cell_type": "code",
   "execution_count": null,
   "metadata": {},
   "outputs": [],
   "source": [
    "# we need to specify our moveit_py config at the top of each notebook we use. \n",
    "# this is since we will start spinning a moveit_py node within this notebook.\n",
    "from moveit_configs_utils import MoveItConfigsBuilder\n",
    "from ament_index_python.packages import get_package_share_directory\n",
    "\n",
    "moveit_config = (\n",
    "        MoveItConfigsBuilder(robot_name=\"UF_ROBOT\", package_name=\"lite6_enrico\")\n",
    "        .robot_description_semantic(file_path=\"config/UF_ROBOT.srdf\")\n",
    "        .trajectory_execution(file_path=\"config/moveit_controllers.yaml\")\n",
    "        .robot_description(file_path=\"config/UF_ROBOT.urdf.xacro\")\n",
    "        .robot_description_kinematics(file_path=\"config/kinematics.yaml\")\n",
    "        .joint_limits(file_path=\"config/joint_limits.yaml\")\n",
    "        .moveit_cpp(\n",
    "            file_path=get_package_share_directory(\"lite6_moveit_demos\")\n",
    "            + \"/config/moveit_cpp.yaml\"\n",
    "        )\n",
    "        .to_moveit_configs()\n",
    "    ).to_dict()\n",
    "\n",
    "\n",
    "\n",
    "\n",
    "\n"
   ]
  },
  {
   "cell_type": "code",
   "execution_count": null,
   "metadata": {},
   "outputs": [],
   "source": [
    "# initialise rclpy (only for logging purposes)\n",
    "#rclpy.init()\n",
    "logger = get_logger(\"moveit_py.pose_goal\")\n",
    "\n",
    "# instantiate moveit_py instance and a planning component for the panda_arm\n",
    "lite6 = MoveItPy(node_name=\"moveit_py\", config_dict=moveit_config)\n",
    "lite6_arm = lite6.get_planning_component(\"lite6_arm\")"
   ]
  },
  {
   "cell_type": "markdown",
   "metadata": {},
   "source": [
    "# ESEGUI DA QUA A SOPRA!"
   ]
  },
  {
   "cell_type": "code",
   "execution_count": null,
   "metadata": {},
   "outputs": [],
   "source": [
    "planning_scene_monitor = lite6.get_planning_scene_monitor()\n",
    "with planning_scene_monitor.read_write() as scene:\n",
    "    robot_model = lite6.get_robot_model()\n",
    "    robot_state = RobotState(robot_model)\n",
    "    robot_state.update(force=True)\n",
    "    print(planning_scene_monitor.name)"
   ]
  },
  {
   "cell_type": "code",
   "execution_count": null,
   "metadata": {},
   "outputs": [],
   "source": [
    "\"\"\"\n",
    "# Initialize rclpy and create an instance of the MoveItPy class\n",
    "rclpy.init()\n",
    "logger = get_logger(\"moveit_py.pose_goal\")\n",
    "\n",
    "# instantiate MoveItPy instance and get planning component\n",
    "lite6 = MoveItPy(node_name=\"moveit_py\")\n",
    "lite6_arm = lite6.get_planning_component(\"lite6_arm\")\n",
    "logger.info(\"MoveItPy instance created\")\n",
    "\"\"\""
   ]
  },
  {
   "cell_type": "code",
   "execution_count": null,
   "metadata": {},
   "outputs": [],
   "source": [
    "#set_goal_from_angles(-pi/6,0,pi/2)\n",
    "#set_goal_from_angles(0,0,pi/2) #in this configuration, the gripper is pointing up\n",
    "#set_goal_from_angles(pi/15,0,pi/2)\n",
    "set_goal_from_angles(pi/15,-pi/8,pi/2)\n",
    "\n",
    "#set_goal_from_angles(-3.1415836,0.0499413,0.0000545)"
   ]
  },
  {
   "cell_type": "code",
   "execution_count": null,
   "metadata": {},
   "outputs": [],
   "source": [
    "import random # Funziona, l'unico problema è che trova troppe poche volte una soluzione accettabile, perché?\n",
    "\n",
    "for __ in range(50):\n",
    "    robot_model = lite6.get_robot_model()\n",
    "    robot_state = RobotState(robot_model)\n",
    "    robot_state.update(force=True)\n",
    "\n",
    "    \n",
    "    #roll = random.uniform(0, 1)\n",
    "    pitch = random.uniform(0, 1)\n",
    "    yaw = random.uniform(0, 1)\n",
    "    roll = -pi/2\n",
    "\n",
    "    magnitude = np.linalg.norm(get_quaternion_from_euler(roll, pitch, yaw))\n",
    "    print(\"Magnitude:\", magnitude)\n",
    "\n",
    "    print(\"roll is\", roll,\"pitch is\", pitch,\"yaw is\", yaw)\n",
    "    print(\"quaternions are\", get_quaternion_from_euler(roll, pitch, yaw))\n",
    "    set_goal_from_angles(roll,pitch,yaw)\n",
    "\n",
    "    time.sleep(3.0)"
   ]
  },
  {
   "cell_type": "code",
   "execution_count": null,
   "metadata": {},
   "outputs": [],
   "source": [
    "set_states_from_poses() # FUNZIONA, Il robot va più veloce se chiamato attraverso le funzioni fornite, come mai?"
   ]
  },
  {
   "cell_type": "code",
   "execution_count": null,
   "metadata": {},
   "outputs": [],
   "source": [
    "set_goal_Pose_Stamped() # FUNZIONA, attento a settare bene orienamento e posizione però"
   ]
  },
  {
   "cell_type": "code",
   "execution_count": null,
   "metadata": {},
   "outputs": [],
   "source": [
    "set_goal_robot_state() # FUNZIONA, movimento randomico -> sembra che il robopt non si muove in modo randomico, ma è come se scegliesse una soliuzione accettabile e si muovesse sempre in quella direzione."
   ]
  },
  {
   "cell_type": "code",
   "execution_count": null,
   "metadata": {},
   "outputs": [],
   "source": [
    "set_goal_constraints() #FUNZIONA, stare attento però alla ws in cui deve lavorare il robot"
   ]
  },
  {
   "cell_type": "code",
   "execution_count": null,
   "metadata": {},
   "outputs": [],
   "source": [
    "# KERNEL CRASHA, PERCHÉ? A quanto pare il kernel crasha quando si cerca di settare una posa iniziale e finale con lo stesso stato del robot. Perché?\n",
    "# Il problema risiede nel fatto che il robot_state.update() non viene chiamato dopo aver settato la posa iniziale, quindi il kernel crasha perché non riesce a trovare una soluzione valida.\n",
    "\n",
    "# FUNZIONA.\n",
    "\n",
    "import random\n",
    "\n",
    "for i in range(30):\n",
    "    planning_scene_monitor = lite6.get_planning_scene_monitor()\n",
    "    with planning_scene_monitor.read_write() as scene:\n",
    "            robot_state = scene.current_state\n",
    "            original_joint_positions = robot_state.get_joint_group_positions(\"lite6_arm\")\n",
    "\n",
    "            lite6_arm.set_start_state_to_current_state()\n",
    "\n",
    "            check_init_pose = robot_state.get_pose(\"link_tcp\")\n",
    "            print(\"Initial_pose:\", check_init_pose)\n",
    "\n",
    "            #Set the pose goal, funziona sempre\n",
    "            pose_goal = Pose()\n",
    "            pose_goal.position.x = random.uniform(0.3, 0.4) + 0.01*i\n",
    "            pose_goal.position.y = random.uniform(0.3, 0.4)\n",
    "            pose_goal.position.z = random.uniform(0.2, 0.4)\n",
    "            pose_goal.orientation.w = 1.0\n",
    "\n",
    "            # FUNZIONA, ma una volta sola\n",
    "            #pose_goal = Pose()\n",
    "            #pose_goal.position.x = check_init_pose.position.x \n",
    "            #pose_goal.position.y = check_init_pose.position.y \n",
    "            #pose_goal.position.z = check_init_pose.position.z \n",
    "            #pose_goal.orientation.x = check_init_pose.orientation.x \n",
    "            #pose_goal.orientation.y = check_init_pose.orientation.y\n",
    "            #pose_goal.orientation.z = check_init_pose.orientation.z\n",
    "            #pose_goal.orientation.w = check_init_pose.orientation.w\n",
    "            #print(\"Offset_pose:\", pose_goal)\n",
    "\n",
    "            #pose_goal.position.x = 0.1\n",
    "            #pose_goal.position.y = 0.2\n",
    "            #pose_goal.position.z = 0.22\n",
    "            #pose_goal.orientation.w = 1.0\n",
    "            \n",
    "            # Set the robot state and check collisions\n",
    "            result = robot_state.set_from_ik(\"lite6_arm\", pose_goal, \"link_tcp\", timeout=2.0)\n",
    "            if not result:\n",
    "                logger.error(\"IK solution was not found!\")\n",
    "            else:\n",
    "                logger.info(\"IK solution found!\")\n",
    "            \n",
    "            lite6_arm.set_goal_state(robot_state=robot_state)\n",
    "            \n",
    "            robot_state.update() # otherwise the kernel crashes\n",
    "\n",
    "            check_updated_pose = robot_state.get_pose(\"link_tcp\")\n",
    "\n",
    "            print(\"New_pose:\", check_updated_pose)\n",
    "\n",
    "            # set goal state to the initialized robot state\n",
    "            logger.info(\"Go to goal\")\n",
    "            #lite6_arm.set_goal_state(robot_state=robot_state)\n",
    "\n",
    "            #robot_state.update()\n",
    "            #time.sleep(3.0)\n",
    "            #plan_and_execute(lite6, lite6_arm, logger,sleep_time=3.0)\n",
    "\n",
    "\n",
    "\n",
    "            robot_state.set_joint_group_positions(\n",
    "            \"lite6_arm\",\n",
    "            original_joint_positions,\n",
    "                )\n",
    "            robot_state.update()\n",
    "\n",
    "    plan_and_execute(lite6, lite6_arm, logger,sleep_time=1.0) \n",
    "        \n",
    "        "
   ]
  },
  {
   "cell_type": "code",
   "execution_count": null,
   "metadata": {},
   "outputs": [],
   "source": [
    "robot_state.set_joint_group_positions(\n",
    "        \"lite6_arm\",\n",
    "        original_joint_positions,\n",
    ")\n",
    "robot_state.update()\n"
   ]
  },
  {
   "cell_type": "code",
   "execution_count": null,
   "metadata": {},
   "outputs": [],
   "source": [
    "plan_and_execute(lite6, lite6_arm, logger,sleep_time=3.0)"
   ]
  },
  {
   "cell_type": "code",
   "execution_count": null,
   "metadata": {},
   "outputs": [],
   "source": [
    "# Questa cella funziona solo dopo che ho mosso manualmente il robot attraverso rviz, dopodiche funziona. Il problema risiede ad un update sbagliato della planning scene o del robot state.\n",
    "print(\"current:\", check_init_pose)\n",
    "robot_state.update()\n",
    "plan_and_execute(lite6, lite6_arm, logger,sleep_time=3.0)\n",
    "\n",
    "# Restore the original state\n",
    "\"\"\"\n",
    "robot_state.set_joint_group_positions(\n",
    "        \"lite6_arm\",\n",
    "        original_joint_positions,\n",
    ")\n",
    "\"\"\"\n",
    "#robot_state.update()  # required to update transforms"
   ]
  },
  {
   "cell_type": "code",
   "execution_count": null,
   "metadata": {},
   "outputs": [],
   "source": [
    "planning_scene_monitor = lite6.get_planning_scene_monitor()\n",
    "with planning_scene_monitor.read_write() as scene:\n",
    "            # instantiate a RobotState instance using the current robot model\n",
    "            robot_state = scene.current_state\n",
    "            original_joint_positions = robot_state.get_joint_group_positions(\"lite6_arm\")\n",
    "            robot_state.update()\n",
    "\n",
    "            check_init_pose = robot_state.get_pose(\"link_tcp\")\n",
    "            print(\"Initial_pose:\", check_init_pose)\n",
    "\n",
    "            pose_goal = Pose()\n",
    "            pose_goal.position.x = check_init_pose.position.x\n",
    "            pose_goal.position.y = check_init_pose.position.y\n",
    "            pose_goal.position.z = check_init_pose.position.z + 0.1\n",
    "            pose_goal.orientation.x = check_init_pose.orientation.x\n",
    "            pose_goal.orientation.y = check_init_pose.orientation.y\n",
    "            pose_goal.orientation.z = check_init_pose.orientation.z\n",
    "            pose_goal.orientation.w = check_init_pose.orientation.w\n",
    "            print(\"Offset_pose:\", pose_goal)\n",
    "\n",
    "            reached = False\n",
    "\n",
    "            while reached == False:\n",
    "                # randomize the robot state\n",
    "                result = robot_state.set_from_ik(joint_model_group_name=\"lite6_arm\",\n",
    "                    geometry_pose=pose_goal,\n",
    "                    tip_name=\"link_tcp\",\n",
    "                    timeout=2.0)\n",
    "\n",
    "                # Check the result of the IK solver\n",
    "                if not result:\n",
    "                    logger.error(\"IK solution was not found!\")\n",
    "                else:\n",
    "                    reached = True\n",
    "\n",
    "            robot_state.update()\n",
    "\n",
    "            check_updated_pose = robot_state.get_pose(\"link_tcp\")\n",
    "\n",
    "            print(\"New_pose:\", check_updated_pose)\n",
    "\n",
    "            # set plan start state to current state\n",
    "            lite6_arm.set_start_state_to_current_state()\n",
    "\n",
    "\n",
    "            # set goal state to the initialized robot state\n",
    "            logger.info(\"Go to goal\")\n",
    "            lite6_arm.set_goal_state(robot_state=robot_state)\n",
    "            robot_state.update()\n",
    "\n",
    "# plan to goal\n",
    "plan_and_execute(lite6, lite6_arm, logger,sleep_time=3.0)\n",
    "                    \n",
    "\n",
    "\n",
    "\n",
    "\n"
   ]
  },
  {
   "cell_type": "code",
   "execution_count": null,
   "metadata": {},
   "outputs": [],
   "source": [
    "def go_to_pose():\n",
    "        planning_scene_monitor = lite6.get_planning_scene_monitor()\n",
    "        with planning_scene_monitor.read_write() as scene:\n",
    "\n",
    "            # instantiate a RobotState instance using the current robot model\n",
    "            robot_state = scene.current_state\n",
    "            original_joint_positions = robot_state.get_joint_group_positions(\"lite6_arm\")\n",
    "            robot_state.update(force=True)\n",
    "\n",
    "            check_init_pose = robot_state.get_pose(\"link_tcp\")\n",
    "            print(\"Initial_pose:\", check_init_pose)\n",
    "\n",
    "            pose_goal = Pose()\n",
    "            pose_goal.position.x = check_init_pose.position.x\n",
    "            pose_goal.position.y = check_init_pose.position.y \n",
    "            pose_goal.position.z = check_init_pose.position.z + 0.01 \n",
    "            pose_goal.orientation.x = check_init_pose.orientation.x\n",
    "            pose_goal.orientation.y = check_init_pose.orientation.y\n",
    "            pose_goal.orientation.z = check_init_pose.orientation.z\n",
    "            pose_goal.orientation.w = check_init_pose.orientation.w\n",
    "            print(\"Offset_pose:\", pose_goal)\n",
    "\n",
    "\n",
    "            # randomize the robot state\n",
    "            result = robot_state.set_from_ik(joint_model_group_name=\"lite6_arm\",\n",
    "                geometry_pose=pose_goal,\n",
    "                tip_name=\"link_tcp\",\n",
    "                timeout=5.0)\n",
    "            \n",
    "            # Check the result of the IK solver\n",
    "            if not result:\n",
    "                logger.error(\"IK solution was not found!\")\n",
    "                print(\"Initial_pose:\", check_init_pose)\n",
    "            else:\n",
    "\n",
    "                robot_state.update()\n",
    "\n",
    "                check_updated_pose = robot_state.get_pose(\"link_tcp\")\n",
    "\n",
    "                print(\"New_pose:\", check_updated_pose)\n",
    "\n",
    "                # set plan start state to current state\n",
    "                lite6_arm.set_start_state_to_current_state()\n",
    "\n",
    "\n",
    "                # set goal state to the initialized robot state\n",
    "                logger.info(\"Go to goal\")\n",
    "                lite6_arm.set_goal_state(robot_state=robot_state)\n",
    "                robot_state.update()\n",
    "\n",
    "                # plan to goal     \n",
    "                plan_and_execute(lite6, lite6_arm, logger,sleep_time=3.0)"
   ]
  },
  {
   "cell_type": "code",
   "execution_count": null,
   "metadata": {},
   "outputs": [],
   "source": [
    "go_to_pose() # funziona se parti dallo stato READY, perchè?? Nota, sembra che a dire il vero non funziona proprio, infatti qualsiasi valore metto nella funzione go_to_pose, va sempre nella stessa"
   ]
  },
  {
   "cell_type": "code",
   "execution_count": null,
   "metadata": {},
   "outputs": [],
   "source": []
  }
 ],
 "metadata": {
  "kernelspec": {
   "display_name": "Python 3",
   "language": "python",
   "name": "python3"
  },
  "language_info": {
   "codemirror_mode": {
    "name": "ipython",
    "version": 3
   },
   "file_extension": ".py",
   "mimetype": "text/x-python",
   "name": "python",
   "nbconvert_exporter": "python",
   "pygments_lexer": "ipython3",
   "version": "3.10.12"
  }
 },
 "nbformat": 4,
 "nbformat_minor": 2
}
