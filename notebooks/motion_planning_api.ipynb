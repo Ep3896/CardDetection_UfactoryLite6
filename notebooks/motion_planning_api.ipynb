{
 "cells": [
  {
   "cell_type": "code",
   "execution_count": 1,
   "metadata": {},
   "outputs": [],
   "source": [
    "#!/usr/bin/env python3"
   ]
  },
  {
   "cell_type": "markdown",
   "metadata": {},
   "source": [
    "**This script serves to outline foundamental concepts of the moveit_py motion planning**"
   ]
  },
  {
   "cell_type": "code",
   "execution_count": 2,
   "metadata": {},
   "outputs": [],
   "source": [
    "import time\n",
    "import rclpy\n",
    "from rclpy.logging import get_logger\n",
    "#import moveit python library\n",
    "from moveit.core.robot_state import RobotState\n",
    "from moveit.planning import (MoveItPy,MultiPipelinePlanRequestParameters)"
   ]
  },
  {
   "cell_type": "code",
   "execution_count": 3,
   "metadata": {},
   "outputs": [],
   "source": [
    "failed = True"
   ]
  },
  {
   "cell_type": "code",
   "execution_count": 4,
   "metadata": {},
   "outputs": [],
   "source": [
    "def plan_and_execute( #Helper function to plan and execute a motion.\n",
    "        robot,\n",
    "        planning_component,\n",
    "        logger,\n",
    "        single_plan_parameters=None,\n",
    "        multi_plan_parameters=None,\n",
    "        sleep_time=0.0,\n",
    "):\n",
    "    \n",
    "    #plan to goal\n",
    "    logger.info(\"Planning Trajectory\")\n",
    "    if multi_plan_parameters is not None:\n",
    "        plan_result = planning_component.plan(\n",
    "            multi_plan_parameters=multi_plan_parameters\n",
    "        )\n",
    "    elif single_plan_parameters is not None:\n",
    "        plan_result = planning_component.plan(\n",
    "            single_plan_parameters=single_plan_parameters\n",
    "        )\n",
    "    else:\n",
    "        plan_result = planning_component.plan()\n",
    "    \n",
    "    #execute the plan\n",
    "    if plan_result:\n",
    "        logger.info(\"Executing Plan\")\n",
    "        robot_trajectory = plan_result.trajectory\n",
    "        robot.execute(robot_trajectory, controllers=[])\n",
    "        failed = False\n",
    "    else:\n",
    "        logger.error(\"Failed to plan trajectory\")\n",
    "        failed = True\n",
    "\n",
    "    time.sleep(sleep_time)\n"
   ]
  },
  {
   "cell_type": "markdown",
   "metadata": {},
   "source": [
    "**Here the main function begins, so it is really important to define the steps that are inside the main function**"
   ]
  },
  {
   "cell_type": "code",
   "execution_count": 5,
   "metadata": {},
   "outputs": [],
   "source": [
    "def set_states_from_poses(): # this function is an example of how to set start and goal states using predefined poses\n",
    "    # set start state using predifined state\n",
    "    lite6_arm.set_start_state(configuration_name=\"Ready\")\n",
    "    # set goal state using predifined state\n",
    "    lite6_arm.set_goal_state(configuration_name=\"Extended\") # it does not exist yet!!\n",
    "    # plan to goal\n",
    "    plan_and_execute(lite6, lite6_arm, logger, sleep_time=3.0)"
   ]
  },
  {
   "cell_type": "code",
   "execution_count": 6,
   "metadata": {},
   "outputs": [],
   "source": [
    "def set_goal_robot_state():\n",
    "    # instantiate a RobotState instance using the current robot model\n",
    "    robot_model = lite6.get_robot_model()\n",
    "    robot_state = RobotState(robot_model)\n",
    "    # randomize the robot state\n",
    "    robot_state.set_to_random_positions()\n",
    "    # set plan start state to current state\n",
    "    lite6_arm.set_start_state_to_current_state()\n",
    "    # set goal state to initialized robot state\n",
    "    logger.info(\"Set goal state to the initialized robot state\")\n",
    "    lite6_arm.set_goal_state(robot_state=robot_state)\n",
    "    # plan to goal\n",
    "    plan_and_execute(lite6, lite6_arm, logger, sleep_time=3.0)\n",
    "    "
   ]
  },
  {
   "cell_type": "code",
   "execution_count": 7,
   "metadata": {},
   "outputs": [],
   "source": [
    "def set_goal_Pose_Stamped(): # ATTENZIONE! \" I would suggest using something like numpy-quaternion for making sure your input quaternion is valid and properly normalized, since it's very easy to run into precision issues\"\n",
    "    # Se i valori delle pose non sono ben normalizzati, il comando non diventa valido!\n",
    "    # set start state to current state\n",
    "    lite6_arm.set_start_state_to_current_state()\n",
    "\n",
    "    # set pose goal with PoseStamped messsage\n",
    "    from geometry_msgs.msg import PoseStamped\n",
    "\n",
    "    pose_goal = PoseStamped()\n",
    "    pose_goal.header.frame_id = \"link_base\"\n",
    "    pose_goal.pose.orientation.w = 1.0\n",
    "    pose_goal.pose.position.x = 0.28\n",
    "    pose_goal.pose.position.y = -0.2\n",
    "    pose_goal.pose.position.z = 0.5\n",
    "    lite6_arm.set_goal_state(pose_stamped_msg=pose_goal, pose_link=\"link_tcp\")\n",
    "    print(\"aggiornato\")\n",
    "\n",
    "    # plan to goal\n",
    "    plan_and_execute(lite6, lite6_arm, logger, sleep_time=3.0)"
   ]
  },
  {
   "cell_type": "code",
   "execution_count": 8,
   "metadata": {},
   "outputs": [],
   "source": [
    "import numpy as np\n",
    "from geometry_msgs.msg import PoseStamped, Pose    # set pose goal with PoseStamped messsage\n",
    "\n",
    "from math import pi"
   ]
  },
  {
   "cell_type": "code",
   "execution_count": 9,
   "metadata": {},
   "outputs": [],
   "source": [
    "def get_quaternion_from_euler(roll, pitch, yaw):\n",
    "  \"\"\"\n",
    "  Convert an Euler angle to a quaternion.\n",
    "   \n",
    "  Input\n",
    "    :param roll: The roll (rotation around x-axis) angle in radians.\n",
    "    :param pitch: The pitch (rotation around y-axis) angle in radians.\n",
    "    :param yaw: The yaw (rotation around z-axis) angle in radians.\n",
    " \n",
    "  Output\n",
    "    :return qx, qy, qz, qw: The orientation in quaternion [x,y,z,w] format\n",
    "  \"\"\"\n",
    "  qx = np.sin(roll/2) * np.cos(pitch/2) * np.cos(yaw/2) - np.cos(roll/2) * np.sin(pitch/2) * np.sin(yaw/2)\n",
    "  qy = np.cos(roll/2) * np.sin(pitch/2) * np.cos(yaw/2) + np.sin(roll/2) * np.cos(pitch/2) * np.sin(yaw/2)\n",
    "  qz = np.cos(roll/2) * np.cos(pitch/2) * np.sin(yaw/2) - np.sin(roll/2) * np.sin(pitch/2) * np.cos(yaw/2)\n",
    "  qw = np.cos(roll/2) * np.cos(pitch/2) * np.cos(yaw/2) + np.sin(roll/2) * np.sin(pitch/2) * np.sin(yaw/2)\n",
    " \n",
    "  return [qx, qy, qz, qw]"
   ]
  },
  {
   "cell_type": "code",
   "execution_count": 10,
   "metadata": {},
   "outputs": [
    {
     "name": "stdout",
     "output_type": "stream",
     "text": [
      "[0.18301270189221933, 0.1830127018922193, 0.6830127018922193, 0.6830127018922194]\n"
     ]
    }
   ],
   "source": [
    "print(get_quaternion_from_euler(pi/6,0,pi/2))\n",
    "good_configurations = []"
   ]
  },
  {
   "cell_type": "code",
   "execution_count": 11,
   "metadata": {},
   "outputs": [],
   "source": [
    "def set_goal_from_angles(roll, pitch, yaw): # ATTENZIONE! \" I would suggest using something like numpy-quaternion for making sure your input quaternion is valid and properly normalized, since it's very easy to run into precision issues\"\n",
    "    # Se i valori delle pose non sono ben normalizzati, il comando non diventa valido!\n",
    "    # set start state to current state\n",
    "    lite6_arm.set_start_state_to_current_state()\n",
    "\n",
    "    quaternion = get_quaternion_from_euler (roll, pitch, yaw)\n",
    "\n",
    "    pose_goal = PoseStamped()\n",
    "    pose_goal.header.frame_id = \"link_base\"\n",
    "    pose_goal.pose.orientation.w = quaternion[3]\n",
    "    pose_goal.pose.position.x = quaternion[0]\n",
    "    pose_goal.pose.position.y = quaternion[1]\n",
    "    pose_goal.pose.position.z = quaternion[2]\n",
    "    lite6_arm.set_goal_state(pose_stamped_msg=pose_goal, pose_link=\"link_tcp\")\n",
    "\n",
    "    # plan to goal\n",
    "    plan_and_execute(lite6, lite6_arm, logger, sleep_time=3.0)\n",
    "    if failed == False:\n",
    "        print(\"It has worked\")\n",
    "        # if the the configuration is valid, we store it in the list\n",
    "        good_configurations.append([roll, pitch, yaw])\n",
    "    else:\n",
    "        print(\"NOT worked\")"
   ]
  },
  {
   "cell_type": "code",
   "execution_count": 12,
   "metadata": {},
   "outputs": [
    {
     "name": "stdout",
     "output_type": "stream",
     "text": [
      "[0.0, 0.0, -0.7071067811865475, 0.7071067811865476]\n",
      "Magnitude: 1.0\n"
     ]
    }
   ],
   "source": [
    "print(get_quaternion_from_euler(0,0,-pi/2))\n",
    "magnitude = np.linalg.norm(get_quaternion_from_euler(0,0,-pi/2))\n",
    "print(\"Magnitude:\", magnitude)"
   ]
  },
  {
   "cell_type": "markdown",
   "metadata": {},
   "source": [
    "**l'ipotesi iniziale era che il risultato del braccio dipendesse dalla difficoltà che esso ha nel trovare una soluzione idonea\n",
    "Sfortunatamene non sembra così, infatti le configurazioni utili del braccio permettono in qualsiasi altra posizione (a quanto ho visto ora) di far muovere il braccio stesso, quindi sono configurazioni apparentemenre sempre valide**\n",
    "\n",
    "# La roll del braccio deve essere sempre attorno a -pi/2!\n"
   ]
  },
  {
   "cell_type": "code",
   "execution_count": 13,
   "metadata": {},
   "outputs": [],
   "source": [
    "def set_goal_constraints():\n",
    "    robot_model = lite6.get_robot_model()\n",
    "    robot_state = RobotState(robot_model)\n",
    "    # set start state to current state\n",
    "    lite6_arm.set_start_state_to_current_state()\n",
    "    # set contraints message\n",
    "    from moveit.core.kinematic_constraints import construct_joint_constraint\n",
    "\n",
    "\n",
    "    joint_values = {\n",
    "        \"joint1\": -1.0,\n",
    "        \"joint2\": 0.7,\n",
    "        \"joint3\": 0.7,\n",
    "        \"joint4\": -1.5,\n",
    "        \"joint5\": -0.7,\n",
    "        \"joint6\": 2.0,\n",
    "    }\n",
    "    robot_state.joint_positions = joint_values\n",
    "    joint_constraint = construct_joint_constraint(\n",
    "        robot_state=robot_state,\n",
    "        joint_model_group=lite6.get_robot_model().get_joint_model_group(\"lite6_arm\"),\n",
    "    )\n",
    "    lite6_arm.set_goal_state(motion_plan_constraints=[joint_constraint])\n",
    "\n",
    "    # plan to goal\n",
    "    plan_and_execute(lite6, lite6_arm, logger, sleep_time=3.0)"
   ]
  },
  {
   "cell_type": "code",
   "execution_count": 14,
   "metadata": {},
   "outputs": [
    {
     "name": "stderr",
     "output_type": "stream",
     "text": [
      "warning: Using load_yaml() directly is deprecated. Use xacro.load_yaml() instead.\n"
     ]
    }
   ],
   "source": [
    "# we need to specify our moveit_py config at the top of each notebook we use. \n",
    "# this is since we will start spinning a moveit_py node within this notebook.\n",
    "from moveit_configs_utils import MoveItConfigsBuilder\n",
    "from ament_index_python.packages import get_package_share_directory\n",
    "\n",
    "moveit_config = (\n",
    "        MoveItConfigsBuilder(robot_name=\"UF_ROBOT\", package_name=\"lite6_enrico\")\n",
    "        .robot_description_semantic(file_path=\"config/UF_ROBOT.srdf\")\n",
    "        .trajectory_execution(file_path=\"config/moveit_controllers.yaml\")\n",
    "        .robot_description(file_path=\"config/UF_ROBOT.urdf.xacro\")\n",
    "        .robot_description_kinematics(file_path=\"config/kinematics.yaml\")\n",
    "        .joint_limits(file_path=\"config/joint_limits.yaml\")\n",
    "        .moveit_cpp(\n",
    "            file_path=get_package_share_directory(\"lite6_moveit_demos\")\n",
    "            + \"/config/moveit_cpp.yaml\"\n",
    "        )\n",
    "        .to_moveit_configs()\n",
    "    ).to_dict()\n",
    "\n",
    "\n",
    "\n",
    "\n",
    "\n"
   ]
  },
  {
   "cell_type": "code",
   "execution_count": 15,
   "metadata": {},
   "outputs": [
    {
     "name": "stderr",
     "output_type": "stream",
     "text": [
      "[INFO] [1714140147.330945518] [moveit_3343775705.moveit.py.cpp_initializer]: Initialize rclcpp\n",
      "[INFO] [1714140147.331004248] [moveit_3343775705.moveit.py.cpp_initializer]: Initialize node parameters\n",
      "[INFO] [1714140147.331019602] [moveit_3343775705.moveit.py.cpp_initializer]: Initialize node and executor\n",
      "[INFO] [1714140147.355209490] [moveit_3343775705.moveit.py.cpp_initializer]: Spin separate thread\n",
      "[INFO] [1714140147.361696798] [moveit_3343775705.moveit.ros.rdf_loader]: Loaded robot model in 0.00636699 seconds\n",
      "[INFO] [1714140147.361730972] [moveit_3343775705.moveit.core.robot_model]: Loading robot model 'UF_ROBOT'...\n",
      "[INFO] [1714140147.361742908] [moveit_3343775705.moveit.core.robot_model]: No root/virtual joint specified in SRDF. Assuming fixed joint\n",
      "[WARN] [1714140147.393886821] [moveit_3343775705.moveit.core.robot_model]: Could not identify parent group for end-effector 'link_tcp'\n",
      "[INFO] [1714140147.407367286] [moveit_3343775705.moveit.kinematics.kdl_kinematics_plugin]: Joint weights for group 'lite6_arm': 1 1 1 1 1 1\n",
      "[INFO] [1714140147.503081807] [moveit_3343775705.moveit.ros.planning_scene_monitor]: Publishing maintained planning scene on 'monitored_planning_scene'\n",
      "[INFO] [1714140147.503207112] [moveit_3343775705.moveit.ros.moveit_cpp]: Listening to '/joint_states' for joint states\n",
      "[INFO] [1714140147.617210664] [moveit_3343775705.moveit.ros.current_state_monitor]: Listening to joint states on topic '/joint_states'\n",
      "[INFO] [1714140147.617976095] [moveit_3343775705.moveit.ros.planning_scene_monitor]: Listening to '/moveit_cpp/planning_scene_monitor' for attached collision objects\n",
      "[INFO] [1714140147.617993005] [moveit_3343775705.moveit.ros.planning_scene_monitor]: Stopping existing planning scene publisher.\n",
      "[INFO] [1714140147.753609373] [moveit_3343775705.moveit.ros.planning_scene_monitor]: Stopped publishing maintained planning scene.\n",
      "[INFO] [1714140147.754725359] [moveit_3343775705.moveit.ros.planning_scene_monitor]: Publishing maintained planning scene on '/moveit_cpp/monitored_planning_scene'\n",
      "[INFO] [1714140147.754802517] [moveit_3343775705.moveit.ros.planning_scene_monitor]: Starting planning scene monitor\n",
      "[INFO] [1714140147.756076421] [moveit_3343775705.moveit.ros.planning_scene_monitor]: Listening to '/moveit_cpp/publish_planning_scene'\n",
      "[INFO] [1714140147.756091441] [moveit_3343775705.moveit.ros.planning_scene_monitor]: Starting world geometry update monitor for collision objects, attached objects, octomap updates.\n",
      "[INFO] [1714140147.756544503] [moveit_3343775705.moveit.ros.planning_scene_monitor]: Listening to 'collision_object'\n",
      "[INFO] [1714140147.757029596] [moveit_3343775705.moveit.ros.planning_scene_monitor]: Listening to 'planning_scene_world' for planning scene world geometry\n",
      "[WARN] [1714140147.759343595] [moveit_3343775705.moveit.ros.occupancy_map_monitor]: Resolution not specified for Octomap. Assuming resolution = 0.1 instead\n",
      "[ERROR] [1714140147.759371990] [moveit_3343775705.moveit.ros.occupancy_map_monitor]: No 3D sensor plugin(s) defined for octomap updates\n",
      "[INFO] [1714140147.797602851] [moveit_3343775705.moveit.ros.planning_pipeline]: Successfully loaded planner 'OMPL'\n",
      "[INFO] [1714140147.806327212] [moveit_py]: Try loading adapter 'default_planning_request_adapters/ResolveConstraintFrames'\n",
      "[INFO] [1714140147.807757119] [moveit_py]: Loaded adapter 'default_planning_request_adapters/ResolveConstraintFrames'\n",
      "[INFO] [1714140147.807778170] [moveit_py]: Try loading adapter 'default_planning_request_adapters/ValidateWorkspaceBounds'\n",
      "[INFO] [1714140147.808231857] [moveit_py]: Loaded adapter 'default_planning_request_adapters/ValidateWorkspaceBounds'\n",
      "[INFO] [1714140147.808256284] [moveit_py]: Try loading adapter 'default_planning_request_adapters/CheckStartStateBounds'\n",
      "[INFO] [1714140147.808300744] [moveit_py]: Loaded adapter 'default_planning_request_adapters/CheckStartStateBounds'\n",
      "[INFO] [1714140147.808317317] [moveit_py]: Try loading adapter 'default_planning_request_adapters/CheckStartStateCollision'\n",
      "[INFO] [1714140147.808338449] [moveit_py]: Loaded adapter 'default_planning_request_adapters/CheckStartStateCollision'\n",
      "[INFO] [1714140147.820153360] [moveit_py]: Try loading adapter 'default_planning_response_adapters/AddTimeOptimalParameterization'\n",
      "[INFO] [1714140147.822773363] [moveit_py]: Loaded adapter 'default_planning_response_adapters/AddTimeOptimalParameterization'\n",
      "[INFO] [1714140147.822803448] [moveit_py]: Try loading adapter 'default_planning_response_adapters/ValidateSolution'\n",
      "[INFO] [1714140147.823567395] [moveit_py]: Loaded adapter 'default_planning_response_adapters/ValidateSolution'\n",
      "[INFO] [1714140147.823591745] [moveit_py]: Try loading adapter 'default_planning_response_adapters/DisplayMotionPath'\n",
      "[INFO] [1714140147.824301698] [moveit_py]: Loaded adapter 'default_planning_response_adapters/DisplayMotionPath'\n",
      "[INFO] [1714140147.837284585] [moveit_3343775705.moveit.planners.pilz.joint_limits_aggregator]: Reading limits from namespace robot_description_planning\n",
      "[INFO] [1714140147.852234199] [moveit_3343775705.moveit.planners.pilz.command_planner]: Available plugins: pilz_industrial_motion_planner/PlanningContextLoaderCIRC pilz_industrial_motion_planner/PlanningContextLoaderLIN pilz_industrial_motion_planner/PlanningContextLoaderPTP \n",
      "[INFO] [1714140147.852258869] [moveit_3343775705.moveit.planners.pilz.command_planner]: About to load: pilz_industrial_motion_planner/PlanningContextLoaderCIRC\n",
      "[INFO] [1714140147.854115295] [moveit_3343775705.moveit.planners.pilz.command_planner]: Registered Algorithm [CIRC]\n",
      "[INFO] [1714140147.854127937] [moveit_3343775705.moveit.planners.pilz.command_planner]: About to load: pilz_industrial_motion_planner/PlanningContextLoaderLIN\n",
      "[INFO] [1714140147.855300994] [moveit_3343775705.moveit.planners.pilz.command_planner]: Registered Algorithm [LIN]\n",
      "[INFO] [1714140147.855312077] [moveit_3343775705.moveit.planners.pilz.command_planner]: About to load: pilz_industrial_motion_planner/PlanningContextLoaderPTP\n",
      "[INFO] [1714140147.856615633] [moveit_3343775705.moveit.planners.pilz.command_planner]: Registered Algorithm [PTP]\n",
      "[INFO] [1714140147.856631514] [moveit_3343775705.moveit.ros.planning_pipeline]: Successfully loaded planner 'Pilz Industrial Motion Planner'\n",
      "[INFO] [1714140147.864518223] [moveit_py]: Try loading adapter 'default_planning_request_adapters/ResolveConstraintFrames'\n",
      "[INFO] [1714140147.865085890] [moveit_py]: Loaded adapter 'default_planning_request_adapters/ResolveConstraintFrames'\n",
      "[INFO] [1714140147.865102598] [moveit_py]: Try loading adapter 'default_planning_request_adapters/ValidateWorkspaceBounds'\n",
      "[INFO] [1714140147.865418043] [moveit_py]: Loaded adapter 'default_planning_request_adapters/ValidateWorkspaceBounds'\n",
      "[INFO] [1714140147.865447124] [moveit_py]: Try loading adapter 'default_planning_request_adapters/CheckStartStateBounds'\n",
      "[INFO] [1714140147.865492430] [moveit_py]: Loaded adapter 'default_planning_request_adapters/CheckStartStateBounds'\n",
      "[INFO] [1714140147.865512964] [moveit_py]: Try loading adapter 'default_planning_request_adapters/CheckStartStateCollision'\n",
      "[INFO] [1714140147.865548497] [moveit_py]: Loaded adapter 'default_planning_request_adapters/CheckStartStateCollision'\n",
      "[INFO] [1714140147.873322849] [moveit_py]: Try loading adapter 'default_planning_response_adapters/ValidateSolution'\n",
      "[INFO] [1714140147.875776089] [moveit_py]: Loaded adapter 'default_planning_response_adapters/ValidateSolution'\n",
      "[INFO] [1714140147.875895701] [moveit_py]: Try loading adapter 'default_planning_response_adapters/DisplayMotionPath'\n",
      "[INFO] [1714140147.877544841] [moveit_py]: Loaded adapter 'default_planning_response_adapters/DisplayMotionPath'\n",
      "[INFO] [1714140147.891069330] [moveit_3343775705.moveit.ros.planning_pipeline]: Successfully loaded planner 'CHOMP'\n",
      "[INFO] [1714140147.899842366] [moveit_py]: Try loading adapter 'default_planning_request_adapters/ResolveConstraintFrames'\n",
      "[INFO] [1714140147.900485306] [moveit_py]: Loaded adapter 'default_planning_request_adapters/ResolveConstraintFrames'\n",
      "[INFO] [1714140147.900502584] [moveit_py]: Try loading adapter 'default_planning_request_adapters/ValidateWorkspaceBounds'\n",
      "[INFO] [1714140147.900963748] [moveit_py]: Loaded adapter 'default_planning_request_adapters/ValidateWorkspaceBounds'\n",
      "[INFO] [1714140147.901032619] [moveit_py]: Try loading adapter 'default_planning_request_adapters/CheckStartStateBounds'\n",
      "[INFO] [1714140147.901068013] [moveit_py]: Loaded adapter 'default_planning_request_adapters/CheckStartStateBounds'\n",
      "[INFO] [1714140147.901078375] [moveit_py]: Try loading adapter 'default_planning_request_adapters/CheckStartStateCollision'\n",
      "[INFO] [1714140147.901095217] [moveit_py]: Loaded adapter 'default_planning_request_adapters/CheckStartStateCollision'\n",
      "[INFO] [1714140147.911400751] [moveit_py]: Try loading adapter 'default_planning_response_adapters/AddTimeOptimalParameterization'\n",
      "[INFO] [1714140147.913717123] [moveit_py]: Loaded adapter 'default_planning_response_adapters/AddTimeOptimalParameterization'\n",
      "[INFO] [1714140147.913758792] [moveit_py]: Try loading adapter 'default_planning_response_adapters/ValidateSolution'\n",
      "[INFO] [1714140147.914393050] [moveit_py]: Loaded adapter 'default_planning_response_adapters/ValidateSolution'\n",
      "[INFO] [1714140147.914425578] [moveit_py]: Try loading adapter 'default_planning_response_adapters/DisplayMotionPath'\n",
      "[INFO] [1714140147.915260271] [moveit_py]: Loaded adapter 'default_planning_response_adapters/DisplayMotionPath'\n",
      "[INFO] [1714140147.955556219] [moveit_3343775705.moveit.plugins.simple_controller_manager]: Added FollowJointTrajectory controller for lite6_arm_controller\n",
      "[INFO] [1714140147.955713171] [moveit_3343775705.moveit.plugins.simple_controller_manager]: Returned 1 controllers in list\n",
      "[INFO] [1714140147.955738934] [moveit_3343775705.moveit.plugins.simple_controller_manager]: Returned 1 controllers in list\n",
      "[INFO] [1714140147.956048721] [moveit_3343775705.moveit.ros.trajectory_execution_manager]: Trajectory execution is managing controllers\n"
     ]
    }
   ],
   "source": [
    "# initialise rclpy (only for logging purposes)\n",
    "#rclpy.init()\n",
    "logger = get_logger(\"moveit_py.pose_goal\")\n",
    "\n",
    "# instantiate moveit_py instance and a planning component for the panda_arm\n",
    "lite6 = MoveItPy(node_name=\"moveit_py\", config_dict=moveit_config)\n",
    "lite6_arm = lite6.get_planning_component(\"lite6_arm\")"
   ]
  },
  {
   "cell_type": "markdown",
   "metadata": {},
   "source": [
    "# ESEGUI DA QUA A SOPRA!"
   ]
  },
  {
   "cell_type": "code",
   "execution_count": null,
   "metadata": {},
   "outputs": [],
   "source": [
    "planning_scene_monitor = lite6.get_planning_scene_monitor()\n",
    "with planning_scene_monitor.read_write() as scene:\n",
    "    robot_model = lite6.get_robot_model()\n",
    "    robot_state = RobotState(robot_model)\n",
    "    robot_state.update(force=True)\n",
    "    print(planning_scene_monitor.name)"
   ]
  },
  {
   "cell_type": "code",
   "execution_count": null,
   "metadata": {},
   "outputs": [],
   "source": [
    "\"\"\"\n",
    "# Initialize rclpy and create an instance of the MoveItPy class\n",
    "rclpy.init()\n",
    "logger = get_logger(\"moveit_py.pose_goal\")\n",
    "\n",
    "# instantiate MoveItPy instance and get planning component\n",
    "lite6 = MoveItPy(node_name=\"moveit_py\")\n",
    "lite6_arm = lite6.get_planning_component(\"lite6_arm\")\n",
    "logger.info(\"MoveItPy instance created\")\n",
    "\"\"\""
   ]
  },
  {
   "cell_type": "code",
   "execution_count": null,
   "metadata": {},
   "outputs": [],
   "source": [
    "#set_goal_from_angles(-pi/6,0,pi/2)\n",
    "#set_goal_from_angles(0,0,pi/2) #in this configuration, the gripper is pointing up\n",
    "#set_goal_from_angles(pi/15,0,pi/2)\n",
    "#set_goal_from_angles(pi/15,-pi/8,pi/2)\n",
    "\n",
    "#set_goal_from_angles(-3.1415836,0.0499413,0.0000545)"
   ]
  },
  {
   "cell_type": "code",
   "execution_count": null,
   "metadata": {},
   "outputs": [],
   "source": [
    "import random # Funziona, l'unico problema è che trova troppe poche volte una soluzione accettabile, perché?\n",
    "\n",
    "for __ in range(50):\n",
    "    robot_model = lite6.get_robot_model()\n",
    "    robot_state = RobotState(robot_model)\n",
    "    robot_state.update(force=True)\n",
    "\n",
    "    \n",
    "    #roll = random.uniform(0, 1)\n",
    "    pitch = random.uniform(0, 1)\n",
    "    yaw = random.uniform(0, 1)\n",
    "    roll = -pi/2\n",
    "\n",
    "    magnitude = np.linalg.norm(get_quaternion_from_euler(roll, pitch, yaw))\n",
    "    print(\"Magnitude:\", magnitude)\n",
    "\n",
    "    print(\"roll is\", roll,\"pitch is\", pitch,\"yaw is\", yaw)\n",
    "    print(\"quaternions are\", get_quaternion_from_euler(roll, pitch, yaw))\n",
    "    set_goal_from_angles(roll,pitch,yaw)\n",
    "\n",
    "    time.sleep(3.0)"
   ]
  },
  {
   "cell_type": "code",
   "execution_count": null,
   "metadata": {},
   "outputs": [],
   "source": [
    "set_states_from_poses() # FUNZIONA, Il robot va più veloce se chiamato attraverso le funzioni fornite, come mai?"
   ]
  },
  {
   "cell_type": "code",
   "execution_count": null,
   "metadata": {},
   "outputs": [],
   "source": [
    "set_goal_Pose_Stamped() # FUNZIONA, attento a settare bene orienamento e posizione però"
   ]
  },
  {
   "cell_type": "code",
   "execution_count": null,
   "metadata": {},
   "outputs": [],
   "source": [
    "set_goal_robot_state() # FUNZIONA, movimento randomico -> sembra che il robopt non si muove in modo randomico, ma è come se scegliesse una soliuzione accettabile e si muovesse sempre in quella direzione."
   ]
  },
  {
   "cell_type": "code",
   "execution_count": null,
   "metadata": {},
   "outputs": [],
   "source": [
    "set_goal_constraints() #FUNZIONA, stare attento però alla ws in cui deve lavorare il robot"
   ]
  },
  {
   "cell_type": "code",
   "execution_count": 109,
   "metadata": {},
   "outputs": [
    {
     "name": "stdout",
     "output_type": "stream",
     "text": [
      "Initial_pose: geometry_msgs.msg.Pose(position=geometry_msgs.msg.Point(x=0.21350380497826263, y=0.14254840333884483, z=0.4160632976143241), orientation=geometry_msgs.msg.Quaternion(x=0.9548810772857587, y=0.14446755488373406, z=0.03224399607946326, w=-0.25747151016050723))\n",
      "New_pose: geometry_msgs.msg.Pose(position=geometry_msgs.msg.Point(x=0.10000004263056726, y=0.19999984694697087, z=0.21999988246085267), orientation=geometry_msgs.msg.Quaternion(x=0.8595671983386446, y=0.182236099776157, z=-0.46513382481490684, w=-0.10763252524996278))\n"
     ]
    },
    {
     "name": "stderr",
     "output_type": "stream",
     "text": [
      "[INFO] [1714141053.354719615] [moveit_3343775705.moveit.kinematics.kdl_kinematics_plugin]: Using position only ik\n",
      "[INFO] [1714141053.369931056] [moveit_py.pose_goal]: IK solution found!\n",
      "[INFO] [1714141053.388926776] [moveit_py.pose_goal]: Go to goal\n"
     ]
    }
   ],
   "source": [
    "# KERNEL CRASHA, PERCHÉ? A quanto pare il kernel crasha quando si cerca di settare una posa iniziale e finale con lo stesso stato del robot. Perché?\n",
    "# Il problema risiede nel fatto che il robot_state.update() non viene chiamato dopo aver settato la posa iniziale, quindi il kernel crasha perché non riesce a trovare una soluzione valida.\n",
    "import random\n",
    "planning_scene_monitor = lite6.get_planning_scene_monitor()\n",
    "with planning_scene_monitor.read_write() as scene:\n",
    "        robot_state = scene.current_state\n",
    "        original_joint_positions = robot_state.get_joint_group_positions(\"lite6_arm\")\n",
    "\n",
    "        lite6_arm.set_start_state_to_current_state()\n",
    "\n",
    "        check_init_pose = robot_state.get_pose(\"link_tcp\")\n",
    "        print(\"Initial_pose:\", check_init_pose)\n",
    "\n",
    "        # Set the pose goal\n",
    "        pose_goal = Pose()\n",
    "        #pose_goal.position.x = random.uniform(0.2, 0.4)\n",
    "        #pose_goal.position.y = random.uniform(-0.2, 0.2)\n",
    "        #pose_goal.position.z = random.uniform(0.4, 0.6)\n",
    "        pose_goal.position.x = 0.1\n",
    "        pose_goal.position.y = 0.2\n",
    "        pose_goal.position.z = 0.22\n",
    "        pose_goal.orientation.w = 1.0\n",
    "        \n",
    "        # Set the robot state and check collisions\n",
    "        result = robot_state.set_from_ik(\"lite6_arm\", pose_goal, \"link_tcp\", timeout=2.0)\n",
    "        if not result:\n",
    "            logger.error(\"IK solution was not found!\")\n",
    "        else:\n",
    "            logger.info(\"IK solution found!\")\n",
    "        \n",
    "        lite6_arm.set_goal_state(robot_state=robot_state)\n",
    "        \n",
    "        robot_state.update() # otherwise the kernel crashes\n",
    "\n",
    "        check_updated_pose = robot_state.get_pose(\"link_tcp\")\n",
    "\n",
    "        print(\"New_pose:\", check_updated_pose)\n",
    "\n",
    "        # set goal state to the initialized robot state\n",
    "        logger.info(\"Go to goal\")\n",
    "        #lite6_arm.set_goal_state(robot_state=robot_state)\n",
    "\n",
    "        #robot_state.update()\n",
    "        #time.sleep(3.0)\n",
    "        #plan_and_execute(lite6, lite6_arm, logger,sleep_time=3.0)\n",
    "        \n",
    "\n",
    "        \"\"\"lite6_arm.set_goal_state(robot_state=robot_state)= robot_state.get_pose(\"link_tcp\")\n",
    "\n",
    "        print(\"New_pose:\", check_updated_pose)\n",
    "\n",
    "        # set plan start state to current state\n",
    "        lite6_arm.set_start_state_to_current_state()\n",
    "\n",
    "        \n",
    "        # set goal state to the initialized robot state\n",
    "        logger.info(\"Go to goal\")\n",
    "        lite6_arm.set_goal_state(robot_state=robot_state)\n",
    "        robot_state.update()\n",
    "\n",
    "        # plan to goal     \n",
    "        plan_and_execute(lite6, lite6_arm, logger,sleep_time=3.0)\n",
    "        \"\"\"\n",
    "        \n",
    "        \n",
    "        "
   ]
  },
  {
   "cell_type": "code",
   "execution_count": 110,
   "metadata": {},
   "outputs": [],
   "source": [
    "robot_state.set_joint_group_positions(\n",
    "        \"lite6_arm\",\n",
    "        original_joint_positions,\n",
    ")\n",
    "robot_state.update()\n"
   ]
  },
  {
   "cell_type": "code",
   "execution_count": 111,
   "metadata": {},
   "outputs": [
    {
     "name": "stderr",
     "output_type": "stream",
     "text": [
      "[INFO] [1714141058.082536108] [moveit_py.pose_goal]: Planning Trajectory\n",
      "[WARN] [1714141058.082665494] [moveit_py]: Parameter 'plan_request_params.planning_time' not found in config use default value instead, check parameter type and namespace in YAML file\n",
      "[INFO] [1714141058.082952538] [moveit_py]: Calling PlanningRequestAdapter 'ResolveConstraintFrames'\n",
      "[INFO] [1714141058.083175416] [moveit_py]: Calling PlanningRequestAdapter 'ValidateWorkspaceBounds'\n",
      "[WARN] [1714141058.083197980] [moveit_3343775705.moveit.ros.validate_workspace_bounds]: It looks like the planning volume was not specified. Using default values.\n",
      "[INFO] [1714141058.083280139] [moveit_py]: Calling PlanningRequestAdapter 'CheckStartStateBounds'\n",
      "[INFO] [1714141058.083391398] [moveit_py]: Calling PlanningRequestAdapter 'CheckStartStateCollision'\n",
      "[INFO] [1714141058.083557412] [moveit_3343775705.moveit.planners.pilz.trajectory_generator.ptp]: Initialized Point-to-Point Trajectory Generator.\n",
      "[INFO] [1714141058.083586531] [moveit_py]: Calling Planner 'Pilz Industrial Motion Planner'\n",
      "[INFO] [1714141058.083615765] [moveit_3343775705.moveit.planners.pilz.trajectory_generator]: Generating PTP trajectory...\n",
      "[INFO] [1714141058.084103401] [moveit_py]: Calling PlanningResponseAdapter 'ValidateSolution'\n",
      "[INFO] [1714141058.085345348] [moveit_py]: Calling PlanningResponseAdapter 'DisplayMotionPath'\n",
      "[INFO] [1714141058.098989438] [moveit_py.pose_goal]: Executing Plan\n",
      "[INFO] [1714141058.099119588] [moveit_3343775705.moveit.plugins.simple_controller_manager]: Returned 1 controllers in list\n",
      "[INFO] [1714141058.099136735] [moveit_3343775705.moveit.plugins.simple_controller_manager]: Returned 1 controllers in list\n",
      "[INFO] [1714141058.099182874] [moveit_3343775705.moveit.plugins.simple_controller_manager]: Returned 1 controllers in list\n",
      "[INFO] [1714141058.099191897] [moveit_3343775705.moveit.plugins.simple_controller_manager]: Returned 1 controllers in list\n",
      "[INFO] [1714141058.099216354] [moveit_3343775705.moveit.ros.trajectory_execution_manager]: Validating trajectory with allowed_start_tolerance 0.01\n",
      "[INFO] [1714141058.107315367] [moveit_3343775705.moveit.ros.trajectory_execution_manager]: Starting trajectory execution ...\n",
      "[INFO] [1714141058.107646889] [moveit_3343775705.moveit.plugins.simple_controller_manager]: Returned 1 controllers in list\n",
      "[INFO] [1714141058.107688405] [moveit_3343775705.moveit.plugins.simple_controller_manager]: Returned 1 controllers in list\n",
      "[INFO] [1714141058.107906768] [moveit.simple_controller_manager.follow_joint_trajectory_controller_handle]: sending trajectory to lite6_arm_controller\n",
      "[INFO] [1714141058.108655776] [moveit.simple_controller_manager.follow_joint_trajectory_controller_handle]: lite6_arm_controller started execution\n",
      "[INFO] [1714141058.108685110] [moveit.simple_controller_manager.follow_joint_trajectory_controller_handle]: Goal request accepted!\n",
      "[INFO] [1714141059.758993194] [moveit.simple_controller_manager.follow_joint_trajectory_controller_handle]: Controller 'lite6_arm_controller' successfully finished\n",
      "[INFO] [1714141059.786682103] [moveit_3343775705.moveit.ros.trajectory_execution_manager]: Completed trajectory execution with status SUCCEEDED ...\n"
     ]
    }
   ],
   "source": [
    "plan_and_execute(lite6, lite6_arm, logger,sleep_time=3.0)"
   ]
  },
  {
   "cell_type": "code",
   "execution_count": null,
   "metadata": {},
   "outputs": [],
   "source": [
    "# Questa cella funziona solo dopo che ho mosso manualmente il robot attraverso rviz, dopodiche funziona. Il problema risiede ad un update sbagliato della planning scene o del robot state.\n",
    "print(\"current:\", check_init_pose)\n",
    "robot_state.update()\n",
    "plan_and_execute(lite6, lite6_arm, logger,sleep_time=3.0)\n",
    "\n",
    "# Restore the original state\n",
    "\"\"\"\n",
    "robot_state.set_joint_group_positions(\n",
    "        \"lite6_arm\",\n",
    "        original_joint_positions,\n",
    ")\n",
    "\"\"\"\n",
    "#robot_state.update()  # required to update transforms"
   ]
  },
  {
   "cell_type": "code",
   "execution_count": 80,
   "metadata": {},
   "outputs": [
    {
     "name": "stdout",
     "output_type": "stream",
     "text": [
      "Initial_pose: geometry_msgs.msg.Pose(position=geometry_msgs.msg.Point(x=0.21132879688421846, y=0.01888500286279456, z=0.49673404497827156), orientation=geometry_msgs.msg.Quaternion(x=0.4641526381357706, y=-0.05176930519464079, z=0.8764742701342383, w=-0.11694067446326499))\n",
      "Offset_pose: geometry_msgs.msg.Pose(position=geometry_msgs.msg.Point(x=0.21132879688421846, y=0.01888500286279456, z=0.5967340449782715), orientation=geometry_msgs.msg.Quaternion(x=0.4641526381357706, y=-0.05176930519464079, z=0.8764742701342383, w=-0.11694067446326499))\n",
      "New_pose: geometry_msgs.msg.Pose(position=geometry_msgs.msg.Point(x=0.21132878243541514, y=0.018884999235134967, z=0.596734035569555), orientation=geometry_msgs.msg.Quaternion(x=0.36315147791360247, y=-0.0490966398405714, z=0.9223929411512232, w=-0.12207287233422548))\n"
     ]
    },
    {
     "name": "stderr",
     "output_type": "stream",
     "text": [
      "[INFO] [1714140812.958870870] [moveit_3343775705.moveit.kinematics.kdl_kinematics_plugin]: Using position only ik\n",
      "[INFO] [1714140812.976062824] [moveit_py.pose_goal]: Go to goal\n",
      "[INFO] [1714140812.987517528] [moveit_py.pose_goal]: Planning Trajectory\n",
      "[WARN] [1714140812.987591355] [moveit_py]: Parameter 'plan_request_params.planning_time' not found in config use default value instead, check parameter type and namespace in YAML file\n",
      "[INFO] [1714140812.987768333] [moveit_py]: Calling PlanningRequestAdapter 'ResolveConstraintFrames'\n",
      "[INFO] [1714140812.987865502] [moveit_py]: Calling PlanningRequestAdapter 'ValidateWorkspaceBounds'\n",
      "[WARN] [1714140812.987875528] [moveit_3343775705.moveit.ros.validate_workspace_bounds]: It looks like the planning volume was not specified. Using default values.\n",
      "[INFO] [1714140812.987921712] [moveit_py]: Calling PlanningRequestAdapter 'CheckStartStateBounds'\n",
      "[INFO] [1714140812.987972945] [moveit_py]: Calling PlanningRequestAdapter 'CheckStartStateCollision'\n",
      "[INFO] [1714140812.988065256] [moveit_3343775705.moveit.planners.pilz.trajectory_generator.ptp]: Initialized Point-to-Point Trajectory Generator.\n",
      "[INFO] [1714140812.988076778] [moveit_py]: Calling Planner 'Pilz Industrial Motion Planner'\n",
      "[INFO] [1714140812.988089551] [moveit_3343775705.moveit.planners.pilz.trajectory_generator]: Generating PTP trajectory...\n",
      "[INFO] [1714140812.988107771] [moveit_3343775705.moveit.planners.pilz.trajectory_generator.ptp]: Goal already reached, set one goal point explicitly.\n",
      "[INFO] [1714140812.988185875] [moveit_py]: Calling PlanningResponseAdapter 'ValidateSolution'\n",
      "[INFO] [1714140812.988282181] [moveit_py]: Calling PlanningResponseAdapter 'DisplayMotionPath'\n",
      "[INFO] [1714140813.003498205] [moveit_py.pose_goal]: Executing Plan\n",
      "[INFO] [1714140813.003640395] [moveit_3343775705.moveit.plugins.simple_controller_manager]: Returned 1 controllers in list\n",
      "[INFO] [1714140813.003668259] [moveit_3343775705.moveit.plugins.simple_controller_manager]: Returned 1 controllers in list\n",
      "[INFO] [1714140813.003697306] [moveit_3343775705.moveit.plugins.simple_controller_manager]: Returned 1 controllers in list\n",
      "[INFO] [1714140813.003713832] [moveit_3343775705.moveit.plugins.simple_controller_manager]: Returned 1 controllers in list\n",
      "[INFO] [1714140813.003747214] [moveit_3343775705.moveit.ros.trajectory_execution_manager]: Validating trajectory with allowed_start_tolerance 0.01\n",
      "[ERROR] [1714140813.006238670] [moveit_3343775705.moveit.ros.trajectory_execution_manager]: \n",
      "Invalid Trajectory: start point deviates from current robot state more than 0.01\n",
      "joint 'joint2': expected: -0.616525, current: -0.837402\n"
     ]
    }
   ],
   "source": [
    "planning_scene_monitor = lite6.get_planning_scene_monitor()\n",
    "with planning_scene_monitor.read_write() as scene:\n",
    "            # instantiate a RobotState instance using the current robot model\n",
    "            robot_state = scene.current_state\n",
    "            original_joint_positions = robot_state.get_joint_group_positions(\"lite6_arm\")\n",
    "            robot_state.update()\n",
    "\n",
    "            check_init_pose = robot_state.get_pose(\"link_tcp\")\n",
    "            print(\"Initial_pose:\", check_init_pose)\n",
    "\n",
    "            pose_goal = Pose()\n",
    "            pose_goal.position.x = check_init_pose.position.x\n",
    "            pose_goal.position.y = check_init_pose.position.y\n",
    "            pose_goal.position.z = check_init_pose.position.z + 0.1\n",
    "            pose_goal.orientation.x = check_init_pose.orientation.x\n",
    "            pose_goal.orientation.y = check_init_pose.orientation.y\n",
    "            pose_goal.orientation.z = check_init_pose.orientation.z\n",
    "            pose_goal.orientation.w = check_init_pose.orientation.w\n",
    "            print(\"Offset_pose:\", pose_goal)\n",
    "\n",
    "            reached = False\n",
    "\n",
    "            while reached == False:\n",
    "                # randomize the robot state\n",
    "                result = robot_state.set_from_ik(joint_model_group_name=\"lite6_arm\",\n",
    "                    geometry_pose=pose_goal,\n",
    "                    tip_name=\"link_tcp\",\n",
    "                    timeout=2.0)\n",
    "\n",
    "                # Check the result of the IK solver\n",
    "                if not result:\n",
    "                    logger.error(\"IK solution was not found!\")\n",
    "                else:\n",
    "                    reached = True\n",
    "\n",
    "            robot_state.update()\n",
    "\n",
    "            check_updated_pose = robot_state.get_pose(\"link_tcp\")\n",
    "\n",
    "            print(\"New_pose:\", check_updated_pose)\n",
    "\n",
    "            # set plan start state to current state\n",
    "            lite6_arm.set_start_state_to_current_state()\n",
    "\n",
    "\n",
    "            # set goal state to the initialized robot state\n",
    "            logger.info(\"Go to goal\")\n",
    "            lite6_arm.set_goal_state(robot_state=robot_state)\n",
    "            robot_state.update()\n",
    "\n",
    "# plan to goal\n",
    "plan_and_execute(lite6, lite6_arm, logger,sleep_time=3.0)\n",
    "                    \n",
    "\n",
    "\n",
    "\n",
    "\n"
   ]
  },
  {
   "cell_type": "code",
   "execution_count": null,
   "metadata": {},
   "outputs": [],
   "source": [
    "def go_to_pose():\n",
    "        planning_scene_monitor = lite6.get_planning_scene_monitor()\n",
    "        with planning_scene_monitor.read_write() as scene:\n",
    "\n",
    "            # instantiate a RobotState instance using the current robot model\n",
    "            robot_state = scene.current_state\n",
    "            original_joint_positions = robot_state.get_joint_group_positions(\"lite6_arm\")\n",
    "            robot_state.update(force=True)\n",
    "\n",
    "            check_init_pose = robot_state.get_pose(\"link_tcp\")\n",
    "            print(\"Initial_pose:\", check_init_pose)\n",
    "\n",
    "            pose_goal = Pose()\n",
    "            pose_goal.position.x = check_init_pose.position.x\n",
    "            pose_goal.position.y = check_init_pose.position.y \n",
    "            pose_goal.position.z = check_init_pose.position.z + 0.01 \n",
    "            pose_goal.orientation.x = check_init_pose.orientation.x\n",
    "            pose_goal.orientation.y = check_init_pose.orientation.y\n",
    "            pose_goal.orientation.z = check_init_pose.orientation.z\n",
    "            pose_goal.orientation.w = check_init_pose.orientation.w\n",
    "            print(\"Offset_pose:\", pose_goal)\n",
    "\n",
    "\n",
    "            # randomize the robot state\n",
    "            result = robot_state.set_from_ik(joint_model_group_name=\"lite6_arm\",\n",
    "                geometry_pose=pose_goal,\n",
    "                tip_name=\"link_tcp\",\n",
    "                timeout=5.0)\n",
    "            \n",
    "            # Check the result of the IK solver\n",
    "            if not result:\n",
    "                logger.error(\"IK solution was not found!\")\n",
    "                print(\"Initial_pose:\", check_init_pose)\n",
    "            else:\n",
    "\n",
    "                robot_state.update()\n",
    "\n",
    "                check_updated_pose = robot_state.get_pose(\"link_tcp\")\n",
    "\n",
    "                print(\"New_pose:\", check_updated_pose)\n",
    "\n",
    "                # set plan start state to current state\n",
    "                lite6_arm.set_start_state_to_current_state()\n",
    "\n",
    "\n",
    "                # set goal state to the initialized robot state\n",
    "                logger.info(\"Go to goal\")\n",
    "                lite6_arm.set_goal_state(robot_state=robot_state)\n",
    "                robot_state.update()\n",
    "\n",
    "                # plan to goal     \n",
    "                plan_and_execute(lite6, lite6_arm, logger,sleep_time=3.0)"
   ]
  },
  {
   "cell_type": "code",
   "execution_count": null,
   "metadata": {},
   "outputs": [],
   "source": [
    "go_to_pose() # funziona se parti dallo stato READY, perchè?? Nota, sembra che a dire il vero non funziona proprio, infatti qualsiasi valore metto nella funzione go_to_pose, va sempre nella stessa"
   ]
  },
  {
   "cell_type": "code",
   "execution_count": null,
   "metadata": {},
   "outputs": [],
   "source": [
    "\"\"\"\n",
    "\n",
    "robot_state.update()  # required to update transforms\n",
    "robot_collision_status = scene.is_state_colliding(\n",
    "        robot_state=robot_state, joint_model_group_name=\"lite6_arm\", verbose=True\n",
    ")\n",
    "logger.info(f\"\\nRobot is in collision: {robot_collision_status}\\n\")\n",
    "\n",
    "# Restore the original state\n",
    "robot_state.set_joint_group_positions(\n",
    "        \"lite6_arm\",\n",
    "        original_joint_positions,\n",
    ")\n",
    "robot_state.update()  # required to update transforms\n",
    "'''"
   ]
  }
 ],
 "metadata": {
  "kernelspec": {
   "display_name": "Python 3",
   "language": "python",
   "name": "python3"
  },
  "language_info": {
   "codemirror_mode": {
    "name": "ipython",
    "version": 3
   },
   "file_extension": ".py",
   "mimetype": "text/x-python",
   "name": "python",
   "nbconvert_exporter": "python",
   "pygments_lexer": "ipython3",
   "version": "3.10.12"
  }
 },
 "nbformat": 4,
 "nbformat_minor": 2
}
