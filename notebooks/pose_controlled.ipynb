{
 "cells": [
  {
   "cell_type": "markdown",
   "metadata": {},
   "source": [
    "# Pose Notebook\n",
    "In this notebook the Ufactory lite6 gripper is controlled through rotation angles but not really in a fashion way beacuse the reference frame is dynamic and not fixed, so it is really hard to give as input a certain position.\n",
    "This aspect needs to be fixed as soon as possibile"
   ]
  },
  {
   "cell_type": "markdown",
   "metadata": {},
   "source": [
    "**packages imports** \n"
   ]
  },
  {
   "cell_type": "code",
   "execution_count": 34,
   "metadata": {},
   "outputs": [],
   "source": [
    "#!/usr/bin/env python3\n",
    "import time\n",
    "import rclpy\n",
    "from rclpy.logging import get_logger\n",
    "#import moveit python library\n",
    "from moveit.core.robot_state import RobotState\n",
    "from moveit.planning import (MoveItPy,MultiPipelinePlanRequestParameters)\n",
    "\n",
    "import numpy as np\n",
    "from geometry_msgs.msg import PoseStamped, Pose    # set pose goal with PoseStamped messsage\n",
    "\n",
    "from math import pi\n",
    "\n",
    "from moveit_configs_utils import MoveItConfigsBuilder\n",
    "from ament_index_python.packages import get_package_share_directory\n",
    "import random"
   ]
  },
  {
   "cell_type": "markdown",
   "metadata": {},
   "source": [
    "**plan and execute function**\n",
    "\n",
    "- *Helper function to plan and execute a motion.*\n",
    " "
   ]
  },
  {
   "cell_type": "code",
   "execution_count": 2,
   "metadata": {},
   "outputs": [],
   "source": [
    "def plan_and_execute(\n",
    "    robot,\n",
    "    planning_component,\n",
    "    logger,\n",
    "    single_plan_parameters=None,\n",
    "    multi_plan_parameters=None,\n",
    "    sleep_time=0.0,\n",
    "):\n",
    "    # plan to goal\n",
    "    logger.info(\"Planning trajectory\")\n",
    "    if multi_plan_parameters is not None:\n",
    "        plan_result = planning_component.plan(\n",
    "            multi_plan_parameters=multi_plan_parameters\n",
    "        )\n",
    "    elif single_plan_parameters is not None:\n",
    "        plan_result = planning_component.plan(\n",
    "            single_plan_parameters=single_plan_parameters\n",
    "        )\n",
    "    else:\n",
    "        plan_result = planning_component.plan()\n",
    "\n",
    "    # execute the plan\n",
    "    if plan_result:\n",
    "        logger.info(\"Executing plan\")\n",
    "        robot_trajectory = plan_result.trajectory\n",
    "        robot.execute(robot_trajectory, controllers=[])\n",
    "    else:\n",
    "        logger.error(\"Planning failed\")\n",
    "\n",
    "    time.sleep(sleep_time)\n"
   ]
  },
  {
   "cell_type": "markdown",
   "metadata": {},
   "source": [
    "**convert euler angles to quaternions**\n",
    "\n",
    "- Convert angles in radiants to a list of quaternions."
   ]
  },
  {
   "cell_type": "code",
   "execution_count": 3,
   "metadata": {},
   "outputs": [],
   "source": [
    "def get_quaternion_from_euler(roll, pitch, yaw):\n",
    "\n",
    "  qx = np.sin(roll/2) * np.cos(pitch/2) * np.cos(yaw/2) - np.cos(roll/2) * np.sin(pitch/2) * np.sin(yaw/2)\n",
    "  qy = np.cos(roll/2) * np.sin(pitch/2) * np.cos(yaw/2) + np.sin(roll/2) * np.cos(pitch/2) * np.sin(yaw/2)\n",
    "  qz = np.cos(roll/2) * np.cos(pitch/2) * np.sin(yaw/2) - np.sin(roll/2) * np.sin(pitch/2) * np.cos(yaw/2)\n",
    "  qw = np.cos(roll/2) * np.cos(pitch/2) * np.cos(yaw/2) + np.sin(roll/2) * np.sin(pitch/2) * np.sin(yaw/2)\n",
    " \n",
    "  return [qx, qy, qz, qw]"
   ]
  },
  {
   "cell_type": "markdown",
   "metadata": {},
   "source": [
    "**set goal function**\n",
    "\n",
    "- Set the goal pose in quaternions."
   ]
  },
  {
   "cell_type": "code",
   "execution_count": 4,
   "metadata": {},
   "outputs": [],
   "source": [
    "def set_goal_from_angles(roll, pitch, yaw): \n",
    "    # ATTENZIONE! \" I would suggest using something like numpy-quaternion for making sure your input quaternion is valid and properly normalized, since it's very easy to run into precision issues\"\n",
    "    # Se i valori delle pose non sono ben normalizzati, il comando non diventa valido!\n",
    "    # set start state to current state\n",
    "    lite6_arm.set_start_state_to_current_state()\n",
    "\n",
    "    quaternion = get_quaternion_from_euler (roll, pitch, yaw)\n",
    "\n",
    "    pose_goal = Pose()    \n",
    "    pose_goal.orientation.x = quaternion[0]\n",
    "    pose_goal.orientation.y = quaternion[1]\n",
    "    pose_goal.orientation.z = quaternion[2]\n",
    "    pose_goal.orientation.w = quaternion[3]\n"
   ]
  },
  {
   "cell_type": "markdown",
   "metadata": {},
   "source": [
    "**Configure MoveitPy**\n",
    "\n",
    "- Configures MoveitPy oject with yamls files such as description, trajectory execution, semantic, kinematics, joint limits and planning config"
   ]
  },
  {
   "cell_type": "code",
   "execution_count": 5,
   "metadata": {},
   "outputs": [
    {
     "name": "stderr",
     "output_type": "stream",
     "text": [
      "warning: Using load_yaml() directly is deprecated. Use xacro.load_yaml() instead.\n"
     ]
    }
   ],
   "source": [
    "moveit_config = (\n",
    "        MoveItConfigsBuilder(robot_name=\"UF_ROBOT\", package_name=\"lite6_enrico\")\n",
    "        .robot_description_semantic(file_path=\"config/UF_ROBOT.srdf\")\n",
    "        .trajectory_execution(file_path=\"config/moveit_controllers.yaml\")\n",
    "        .robot_description(file_path=\"config/UF_ROBOT.urdf.xacro\")\n",
    "        .robot_description_kinematics(file_path=\"config/kinematics.yaml\")\n",
    "        .joint_limits(file_path=\"config/joint_limits.yaml\")\n",
    "        .moveit_cpp(\n",
    "            file_path=get_package_share_directory(\"lite6_moveit_demos\")\n",
    "            + \"/config/moveit_cpp.yaml\"\n",
    "        )\n",
    "        .to_moveit_configs()\n",
    "    ).to_dict()"
   ]
  },
  {
   "cell_type": "markdown",
   "metadata": {},
   "source": [
    "**initialise MoveitPY**\n",
    "\n",
    "- Initializes MoveitPy node given the configuration builder set in the previous cell"
   ]
  },
  {
   "cell_type": "code",
   "execution_count": 6,
   "metadata": {},
   "outputs": [
    {
     "name": "stderr",
     "output_type": "stream",
     "text": [
      "[INFO] [1716219583.786173341] [moveit_879846967.moveit.py.cpp_initializer]: Initialize rclcpp\n",
      "[INFO] [1716219583.786233263] [moveit_879846967.moveit.py.cpp_initializer]: Initialize node parameters\n",
      "[INFO] [1716219583.786239695] [moveit_879846967.moveit.py.cpp_initializer]: Initialize node and executor\n",
      "[INFO] [1716219583.800635876] [moveit_879846967.moveit.py.cpp_initializer]: Spin separate thread\n",
      "[INFO] [1716219583.804562298] [moveit_879846967.moveit.ros.rdf_loader]: Loaded robot model in 0.00378598 seconds\n",
      "[INFO] [1716219583.804588857] [moveit_879846967.moveit.core.robot_model]: Loading robot model 'UF_ROBOT'...\n",
      "[INFO] [1716219583.804594458] [moveit_879846967.moveit.core.robot_model]: No root/virtual joint specified in SRDF. Assuming fixed joint\n",
      "[WARN] [1716219583.826554149] [moveit_879846967.moveit.core.robot_model]: Could not identify parent group for end-effector 'link_tcp'\n",
      "[INFO] [1716219583.836322784] [moveit_879846967.moveit.kinematics.kdl_kinematics_plugin]: Joint weights for group 'lite6_arm': 1 1 1 1 1 1\n",
      "[INFO] [1716219583.909831503] [moveit_879846967.moveit.ros.planning_scene_monitor]: Publishing maintained planning scene on 'monitored_planning_scene'\n",
      "[INFO] [1716219583.909982546] [moveit_879846967.moveit.ros.moveit_cpp]: Listening to '/joint_states' for joint states\n",
      "[INFO] [1716219583.910297416] [moveit_879846967.moveit.ros.current_state_monitor]: Listening to joint states on topic '/joint_states'\n",
      "[INFO] [1716219583.910733784] [moveit_879846967.moveit.ros.planning_scene_monitor]: Listening to '/moveit_cpp/planning_scene_monitor' for attached collision objects\n",
      "[INFO] [1716219583.910742621] [moveit_879846967.moveit.ros.planning_scene_monitor]: Stopping existing planning scene publisher.\n",
      "[INFO] [1716219583.910831718] [moveit_879846967.moveit.ros.planning_scene_monitor]: Stopped publishing maintained planning scene.\n",
      "[INFO] [1716219583.911678065] [moveit_879846967.moveit.ros.planning_scene_monitor]: Publishing maintained planning scene on '/moveit_cpp/monitored_planning_scene'\n",
      "[INFO] [1716219583.911738558] [moveit_879846967.moveit.ros.planning_scene_monitor]: Starting planning scene monitor\n",
      "[INFO] [1716219583.912540542] [moveit_879846967.moveit.ros.planning_scene_monitor]: Listening to '/moveit_cpp/publish_planning_scene'\n",
      "[INFO] [1716219583.912550390] [moveit_879846967.moveit.ros.planning_scene_monitor]: Starting world geometry update monitor for collision objects, attached objects, octomap updates.\n",
      "[INFO] [1716219583.912888113] [moveit_879846967.moveit.ros.planning_scene_monitor]: Listening to 'collision_object'\n",
      "[INFO] [1716219583.913271552] [moveit_879846967.moveit.ros.planning_scene_monitor]: Listening to 'planning_scene_world' for planning scene world geometry\n",
      "[WARN] [1716219583.915474953] [moveit_879846967.moveit.ros.occupancy_map_monitor]: Resolution not specified for Octomap. Assuming resolution = 0.1 instead\n",
      "[ERROR] [1716219583.915500571] [moveit_879846967.moveit.ros.occupancy_map_monitor]: No 3D sensor plugin(s) defined for octomap updates\n",
      "[INFO] [1716219583.942120670] [moveit_879846967.moveit.ros.planning_pipeline]: Successfully loaded planner 'OMPL'\n",
      "[INFO] [1716219583.950903697] [moveit_py]: Try loading adapter 'default_planning_request_adapters/ResolveConstraintFrames'\n",
      "[INFO] [1716219583.952163750] [moveit_py]: Loaded adapter 'default_planning_request_adapters/ResolveConstraintFrames'\n",
      "[INFO] [1716219583.952179619] [moveit_py]: Try loading adapter 'default_planning_request_adapters/ValidateWorkspaceBounds'\n",
      "[INFO] [1716219583.952441911] [moveit_py]: Loaded adapter 'default_planning_request_adapters/ValidateWorkspaceBounds'\n",
      "[INFO] [1716219583.952454084] [moveit_py]: Try loading adapter 'default_planning_request_adapters/CheckStartStateBounds'\n",
      "[INFO] [1716219583.952472178] [moveit_py]: Loaded adapter 'default_planning_request_adapters/CheckStartStateBounds'\n",
      "[INFO] [1716219583.952478440] [moveit_py]: Try loading adapter 'default_planning_request_adapters/CheckStartStateCollision'\n",
      "[INFO] [1716219583.952489350] [moveit_py]: Loaded adapter 'default_planning_request_adapters/CheckStartStateCollision'\n",
      "[INFO] [1716219583.959027278] [moveit_py]: Try loading adapter 'default_planning_response_adapters/AddTimeOptimalParameterization'\n",
      "[INFO] [1716219583.960892865] [moveit_py]: Loaded adapter 'default_planning_response_adapters/AddTimeOptimalParameterization'\n",
      "[INFO] [1716219583.960906110] [moveit_py]: Try loading adapter 'default_planning_response_adapters/ValidateSolution'\n",
      "[INFO] [1716219583.961605421] [moveit_py]: Loaded adapter 'default_planning_response_adapters/ValidateSolution'\n",
      "[INFO] [1716219583.961619939] [moveit_py]: Try loading adapter 'default_planning_response_adapters/DisplayMotionPath'\n",
      "[INFO] [1716219583.962242987] [moveit_py]: Loaded adapter 'default_planning_response_adapters/DisplayMotionPath'\n",
      "[INFO] [1716219583.972032992] [moveit_879846967.moveit.planners.pilz.joint_limits_aggregator]: Reading limits from namespace robot_description_planning\n",
      "[INFO] [1716219583.978880500] [moveit_879846967.moveit.planners.pilz.command_planner]: Available plugins: pilz_industrial_motion_planner/PlanningContextLoaderCIRC pilz_industrial_motion_planner/PlanningContextLoaderLIN pilz_industrial_motion_planner/PlanningContextLoaderPTP \n",
      "[INFO] [1716219583.978895348] [moveit_879846967.moveit.planners.pilz.command_planner]: About to load: pilz_industrial_motion_planner/PlanningContextLoaderCIRC\n",
      "[INFO] [1716219583.980662781] [moveit_879846967.moveit.planners.pilz.command_planner]: Registered Algorithm [CIRC]\n",
      "[INFO] [1716219583.980673381] [moveit_879846967.moveit.planners.pilz.command_planner]: About to load: pilz_industrial_motion_planner/PlanningContextLoaderLIN\n",
      "[INFO] [1716219583.981829449] [moveit_879846967.moveit.planners.pilz.command_planner]: Registered Algorithm [LIN]\n",
      "[INFO] [1716219583.981838866] [moveit_879846967.moveit.planners.pilz.command_planner]: About to load: pilz_industrial_motion_planner/PlanningContextLoaderPTP\n",
      "[INFO] [1716219583.983069554] [moveit_879846967.moveit.planners.pilz.command_planner]: Registered Algorithm [PTP]\n",
      "[INFO] [1716219583.983082348] [moveit_879846967.moveit.ros.planning_pipeline]: Successfully loaded planner 'Pilz Industrial Motion Planner'\n",
      "[INFO] [1716219583.989708601] [moveit_py]: Try loading adapter 'default_planning_request_adapters/ResolveConstraintFrames'\n",
      "[INFO] [1716219583.990207376] [moveit_py]: Loaded adapter 'default_planning_request_adapters/ResolveConstraintFrames'\n",
      "[INFO] [1716219583.990215712] [moveit_py]: Try loading adapter 'default_planning_request_adapters/ValidateWorkspaceBounds'\n",
      "[INFO] [1716219583.990376092] [moveit_py]: Loaded adapter 'default_planning_request_adapters/ValidateWorkspaceBounds'\n",
      "[INFO] [1716219583.990387103] [moveit_py]: Try loading adapter 'default_planning_request_adapters/CheckStartStateBounds'\n",
      "[INFO] [1716219583.990406299] [moveit_py]: Loaded adapter 'default_planning_request_adapters/CheckStartStateBounds'\n",
      "[INFO] [1716219583.990413122] [moveit_py]: Try loading adapter 'default_planning_request_adapters/CheckStartStateCollision'\n",
      "[INFO] [1716219583.990424854] [moveit_py]: Loaded adapter 'default_planning_request_adapters/CheckStartStateCollision'\n",
      "[INFO] [1716219583.997332765] [moveit_py]: Try loading adapter 'default_planning_response_adapters/ValidateSolution'\n",
      "[INFO] [1716219583.998407210] [moveit_py]: Loaded adapter 'default_planning_response_adapters/ValidateSolution'\n",
      "[INFO] [1716219583.998421126] [moveit_py]: Try loading adapter 'default_planning_response_adapters/DisplayMotionPath'\n",
      "[INFO] [1716219583.998940249] [moveit_py]: Loaded adapter 'default_planning_response_adapters/DisplayMotionPath'\n",
      "[INFO] [1716219584.011295674] [moveit_879846967.moveit.ros.planning_pipeline]: Successfully loaded planner 'CHOMP'\n",
      "[INFO] [1716219584.018992344] [moveit_py]: Try loading adapter 'default_planning_request_adapters/ResolveConstraintFrames'\n",
      "[INFO] [1716219584.019503963] [moveit_py]: Loaded adapter 'default_planning_request_adapters/ResolveConstraintFrames'\n",
      "[INFO] [1716219584.019515164] [moveit_py]: Try loading adapter 'default_planning_request_adapters/ValidateWorkspaceBounds'\n",
      "[INFO] [1716219584.019712474] [moveit_py]: Loaded adapter 'default_planning_request_adapters/ValidateWorkspaceBounds'\n",
      "[INFO] [1716219584.019750175] [moveit_py]: Try loading adapter 'default_planning_request_adapters/CheckStartStateBounds'\n",
      "[INFO] [1716219584.019769731] [moveit_py]: Loaded adapter 'default_planning_request_adapters/CheckStartStateBounds'\n",
      "[INFO] [1716219584.019776013] [moveit_py]: Try loading adapter 'default_planning_request_adapters/CheckStartStateCollision'\n",
      "[INFO] [1716219584.019788316] [moveit_py]: Loaded adapter 'default_planning_request_adapters/CheckStartStateCollision'\n",
      "[INFO] [1716219584.026778632] [moveit_py]: Try loading adapter 'default_planning_response_adapters/AddTimeOptimalParameterization'\n",
      "[INFO] [1716219584.027603518] [moveit_py]: Loaded adapter 'default_planning_response_adapters/AddTimeOptimalParameterization'\n",
      "[INFO] [1716219584.027616092] [moveit_py]: Try loading adapter 'default_planning_response_adapters/ValidateSolution'\n",
      "[INFO] [1716219584.028003288] [moveit_py]: Loaded adapter 'default_planning_response_adapters/ValidateSolution'\n",
      "[INFO] [1716219584.028018096] [moveit_py]: Try loading adapter 'default_planning_response_adapters/DisplayMotionPath'\n",
      "[INFO] [1716219584.028496833] [moveit_py]: Loaded adapter 'default_planning_response_adapters/DisplayMotionPath'\n",
      "[INFO] [1716219584.055963860] [moveit_879846967.moveit.plugins.simple_controller_manager]: Added FollowJointTrajectory controller for lite6_arm_controller\n",
      "[INFO] [1716219584.056095156] [moveit_879846967.moveit.plugins.simple_controller_manager]: Returned 1 controllers in list\n",
      "[INFO] [1716219584.056109143] [moveit_879846967.moveit.plugins.simple_controller_manager]: Returned 1 controllers in list\n",
      "[INFO] [1716219584.056331720] [moveit_879846967.moveit.ros.trajectory_execution_manager]: Trajectory execution is managing controllers\n"
     ]
    }
   ],
   "source": [
    "rclpy.init() # initialise rclpy (only for logging purposes)\n",
    "logger = get_logger(\"moveit_py.pose_goal\")\n",
    "\n",
    "# instantiate moveit_py instance and a planning component for the panda_arm\n",
    "lite6 = MoveItPy(node_name=\"moveit_py\", config_dict=moveit_config)\n",
    "lite6_arm = lite6.get_planning_component(\"lite6_arm\")"
   ]
  },
  {
   "cell_type": "markdown",
   "metadata": {},
   "source": [
    "**Go to pose definition**\n",
    "\n",
    "- This function go_to_pose(roll, pitch, yaw) is used to move a robot arm to a specific pose defined by the roll, pitch, and yaw parameters. Here's a step-by-step explanation:\n",
    "\n",
    "1. The function starts by setting plan to False. This variable is used later to check if the robot arm was able to find a valid pose.\n",
    "\n",
    "2. It gets a planning scene monitor from the robot arm. This monitor is used to get the current state of the robot and to set the new pose.\n",
    "\n",
    "3. It creates a RobotState instance using the current state of the robot. This state includes the current positions of the robot's joints.\n",
    "\n",
    "4. It sets the start state of the robot arm to its current state.\n",
    "\n",
    "5. It gets the current pose of the robot arm's end effector (the \"link_tcp\").\n",
    "\n",
    "6. It prints the initial pose, the roll, pitch, yaw values, and the corresponding quaternion.\n",
    "\n",
    "7. creates a new pose goal based on the current pose but with the orientation defined by the quaternion calculated from the roll, pitch, and yaw.\n",
    "\n",
    "8. tries to set the robot state to the new pose using inverse kinematics (IK). If it can't find a valid pose that doesn't collide with anything, it logs an error message and returns from the function.\n",
    "\n",
    "9.  a valid pose is found, it sets the goal state of the robot arm to the new pose and updates the robot state.\n",
    "\n",
    "10. It gets the updated pose of the robot arm's end effector and prints it.\n",
    "\n",
    "11. It logs a message indicating that the robot arm is moving to the goal pose.\n",
    "\n",
    "12. It sets the joint positions of the robot arm back to their original positions and updates the robot state.\n",
    "\n",
    "13. If a valid pose was found (i.e., plan is True), it calls a function plan_and_execute to move the robot arm to the new pose."
   ]
  },
  {
   "cell_type": "code",
   "execution_count": 33,
   "metadata": {},
   "outputs": [],
   "source": [
    "from geometry_msgs.msg import PoseStamped, Pose    # set pose goal with PoseStamped messsage\n",
    "def go_to_pose(roll, pitch, yaw, movx, movy, movz):\n",
    "        plan = False\n",
    "        planning_scene_monitor = lite6.get_planning_scene_monitor()\n",
    "        #with planning_scene_monitor.read_write() as scene:\n",
    "        with planning_scene_monitor.read_only() as scene:\n",
    "\n",
    "            # instantiate a RobotState instance using the current robot model\n",
    "            robot_state = scene.current_state\n",
    "            original_joint_positions = robot_state.get_joint_group_positions(\"lite6_arm\")\n",
    "\n",
    "            lite6_arm.set_start_state_to_current_state()\n",
    "\n",
    "            check_init_pose = robot_state.get_pose(\"link_tcp\")\n",
    "            print(\"Initial_pose:\", check_init_pose)\n",
    "            print(\"roll is\", roll,\"pitch is\", pitch,\"yaw is\", yaw)\n",
    "            print(\"Quaternions are\", get_quaternion_from_euler(roll, pitch, yaw))\n",
    "\n",
    "            quaternion = get_quaternion_from_euler (roll, pitch, yaw)\n",
    "\n",
    "            pose_goal = Pose()\n",
    "            pose_goal.position.x = check_init_pose.position.x  + movx\n",
    "            pose_goal.position.y = check_init_pose.position.y  + movy\n",
    "            pose_goal.position.z = check_init_pose.position.z  + movz\n",
    "            pose_goal.orientation.x = quaternion[0]\n",
    "            pose_goal.orientation.y = quaternion[1]\n",
    "            pose_goal.orientation.z = quaternion[2]\n",
    "            pose_goal.orientation.w = quaternion[3]\n",
    "\n",
    "\n",
    "            # Set the robot state and check collisions\n",
    "            result = robot_state.set_from_ik(\"lite6_arm\", pose_goal, \"link_tcp\", timeout=5.0)\n",
    "            if not result:\n",
    "                logger.error(\"IK solution was not found!\")\n",
    "                return\n",
    "            else:\n",
    "                logger.info(\"IK solution found!\")\n",
    "                plan = True\n",
    "            \n",
    "                lite6_arm.set_goal_state(robot_state=robot_state)   \n",
    "            \n",
    "                robot_state.update() # otherwise the kernel crashes\n",
    "\n",
    "                check_updated_pose = robot_state.get_pose(\"link_tcp\")\n",
    "\n",
    "                print(\"New_pose:\", check_updated_pose)\n",
    "\n",
    "                logger.info(\"Go to goal\")\n",
    "\n",
    "                robot_state.set_joint_group_positions(\n",
    "                \"lite6_arm\",\n",
    "                original_joint_positions,\n",
    "                    )\n",
    "                robot_state.update()\n",
    "\n",
    "        if plan == True:\n",
    "            plan_and_execute(lite6, lite6_arm, logger,sleep_time=3.0) "
   ]
  },
  {
   "cell_type": "code",
   "execution_count": 32,
   "metadata": {},
   "outputs": [
    {
     "name": "stdout",
     "output_type": "stream",
     "text": [
      "Initial_pose: geometry_msgs.msg.Pose(position=geometry_msgs.msg.Point(x=0.23668607690863605, y=0.019990374162415225, z=0.299972570101641), orientation=geometry_msgs.msg.Quaternion(x=0.258836389646137, y=0.9659211786657095, z=-9.260443476085657e-09, w=-9.607465908913046e-09))\n",
      "roll is 0 pitch is 3.141592653589793 yaw is 0.5235987755982988\n",
      "Quaternions are [-0.25881904510252074, 0.9659258262890683, 1.5848095757158825e-17, 5.914589856893349e-17]\n",
      "New_pose: geometry_msgs.msg.Pose(position=geometry_msgs.msg.Point(x=0.23668609292074808, y=0.029990304438192818, z=0.3099721462315107), orientation=geometry_msgs.msg.Quaternion(x=-0.2588190445115125, y=0.9659258264474287, z=-8.393819420894436e-09, w=3.609961290463106e-10))\n"
     ]
    },
    {
     "name": "stderr",
     "output_type": "stream",
     "text": [
      "[INFO] [1716220416.641007566] [moveit_py.pose_goal]: IK solution found!\n",
      "[INFO] [1716220416.647373692] [moveit_py.pose_goal]: Go to goal\n",
      "[INFO] [1716220416.654249443] [moveit_py.pose_goal]: Planning trajectory\n",
      "[WARN] [1716220416.654342297] [moveit_py]: Parameter 'plan_request_params.planning_time' not found in config use default value instead, check parameter type and namespace in YAML file\n",
      "[INFO] [1716220416.654644012] [moveit_py]: Calling PlanningRequestAdapter 'ResolveConstraintFrames'\n",
      "[INFO] [1716220416.654774988] [moveit_py]: Calling PlanningRequestAdapter 'ValidateWorkspaceBounds'\n",
      "[WARN] [1716220416.654788824] [moveit_879846967.moveit.ros.validate_workspace_bounds]: It looks like the planning volume was not specified. Using default values.\n",
      "[INFO] [1716220416.654849538] [moveit_py]: Calling PlanningRequestAdapter 'CheckStartStateBounds'\n",
      "[INFO] [1716220416.654920280] [moveit_py]: Calling PlanningRequestAdapter 'CheckStartStateCollision'\n",
      "[INFO] [1716220416.655058620] [moveit_879846967.moveit.planners.pilz.trajectory_generator.ptp]: Initialized Point-to-Point Trajectory Generator.\n",
      "[INFO] [1716220416.655079399] [moveit_py]: Calling Planner 'Pilz Industrial Motion Planner'\n",
      "[INFO] [1716220416.655099416] [moveit_879846967.moveit.planners.pilz.trajectory_generator]: Generating PTP trajectory...\n",
      "[INFO] [1716220416.655436428] [moveit_py]: Calling PlanningResponseAdapter 'ValidateSolution'\n",
      "[INFO] [1716220416.655833432] [moveit_py]: Calling PlanningResponseAdapter 'DisplayMotionPath'\n",
      "[INFO] [1716220416.663206296] [moveit_py.pose_goal]: Executing plan\n",
      "[INFO] [1716220416.663298108] [moveit_879846967.moveit.plugins.simple_controller_manager]: Returned 1 controllers in list\n",
      "[INFO] [1716220416.663315791] [moveit_879846967.moveit.plugins.simple_controller_manager]: Returned 1 controllers in list\n",
      "[INFO] [1716220416.663351718] [moveit_879846967.moveit.plugins.simple_controller_manager]: Returned 1 controllers in list\n",
      "[INFO] [1716220416.663362949] [moveit_879846967.moveit.plugins.simple_controller_manager]: Returned 1 controllers in list\n",
      "[INFO] [1716220416.663392424] [moveit_879846967.moveit.ros.trajectory_execution_manager]: Validating trajectory with allowed_start_tolerance 0.01\n",
      "[INFO] [1716220416.668139975] [moveit_879846967.moveit.ros.trajectory_execution_manager]: Starting trajectory execution ...\n",
      "[INFO] [1716220416.668184790] [moveit_879846967.moveit.plugins.simple_controller_manager]: Returned 1 controllers in list\n",
      "[INFO] [1716220416.668248489] [moveit_879846967.moveit.plugins.simple_controller_manager]: Returned 1 controllers in list\n",
      "[INFO] [1716220416.668479332] [moveit.simple_controller_manager.follow_joint_trajectory_controller_handle]: sending trajectory to lite6_arm_controller\n",
      "[INFO] [1716220416.669185446] [moveit.simple_controller_manager.follow_joint_trajectory_controller_handle]: lite6_arm_controller started execution\n",
      "[INFO] [1716220416.669221393] [moveit.simple_controller_manager.follow_joint_trajectory_controller_handle]: Goal request accepted!\n",
      "[INFO] [1716220418.969646887] [moveit.simple_controller_manager.follow_joint_trajectory_controller_handle]: Controller 'lite6_arm_controller' successfully finished\n",
      "[INFO] [1716220418.997476012] [moveit_879846967.moveit.ros.trajectory_execution_manager]: Completed trajectory execution with status SUCCEEDED ...\n"
     ]
    }
   ],
   "source": [
    "# Questa sotto è òa configurazzione di default, alla fine il primo parametro sarà sempre il tezo dovrà cambiare.\n",
    "# l'apertura del gripper è sempre parallela al suo asse x\n",
    "#go_to_pose(0,pi,0) questa è una configurazione di default con il gripper in basso \n",
    "#go_to_pose(0,pi,pi/2) # questa è una configurazione di default con il gripper in basso\n",
    "go_to_pose(0,pi,random.uniform(-2*pi, 2*pi),random.uniform(-0.1, 0.1),random.uniform(-0.1, 0.1),random.uniform(-0.1, 0.1))\n"
   ]
  },
  {
   "cell_type": "markdown",
   "metadata": {},
   "source": [
    "in sostanza si applicano dei contraint ai gradi di libertà sulla terna dell'EE per cui la go_to_pose avrà sempre come primo parametro lo 0 mentre come secondo pi."
   ]
  },
  {
   "cell_type": "markdown",
   "metadata": {},
   "source": [
    "**Il prossimo passo è quello di implementare matrici di rotazione per il movimento dell'EE del robot**\n",
    "\n",
    "Osservazione: il problema è che tu non hai una terna di riferimento a tutti gli effetti, alla fine ti basi sempre sulla terna precedente in quanto a posizione e ad orientamento pure"
   ]
  },
  {
   "cell_type": "markdown",
   "metadata": {},
   "source": []
  }
 ],
 "metadata": {
  "kernelspec": {
   "display_name": "Python 3",
   "language": "python",
   "name": "python3"
  },
  "language_info": {
   "codemirror_mode": {
    "name": "ipython",
    "version": 3
   },
   "file_extension": ".py",
   "mimetype": "text/x-python",
   "name": "python",
   "nbconvert_exporter": "python",
   "pygments_lexer": "ipython3",
   "version": "3.10.12"
  }
 },
 "nbformat": 4,
 "nbformat_minor": 2
}
